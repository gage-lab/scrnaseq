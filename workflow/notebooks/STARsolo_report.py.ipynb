{
 "cells": [
  {
   "cell_type": "code",
   "execution_count": null,
   "id": "e057c3d3",
   "metadata": {},
   "outputs": [],
   "source": [
    "from IPython.display import Markdown as md\n",
    "from pathlib import Path\n",
    "import pandas as pd\n",
    "import seaborn as sns\n",
    "import pegasus as pg\n",
    "import plotly.express as px\n",
    "import logging, sys, os\n",
    "\n",
    "sys.path.append((os.path.abspath(\"../workflow\")))\n",
    "from src.plot_utils import pretty_table\n",
    "\n",
    "logging.getLogger(\"pegasus\").setLevel(logging.WARNING)\n",
    "logging.getLogger(\"pegasusio\").setLevel(logging.WARNING)"
   ]
  },
  {
   "cell_type": "code",
   "execution_count": null,
   "id": "bc8a989e",
   "metadata": {},
   "outputs": [],
   "source": [
    "md(f\"# STARsolo report for {snakemake.wildcards.soloFeatures}\")"
   ]
  },
  {
   "cell_type": "code",
   "execution_count": null,
   "id": "7b853694",
   "metadata": {},
   "outputs": [],
   "source": [
    "runsheet = pd.read_csv(snakemake.config[\"runsheet\"], sep=\"\\t\")"
   ]
  },
  {
   "attachments": {},
   "cell_type": "markdown",
   "id": "cc419084",
   "metadata": {},
   "source": [
    "## Metrics"
   ]
  },
  {
   "cell_type": "code",
   "execution_count": null,
   "id": "463257ef",
   "metadata": {},
   "outputs": [],
   "source": [
    "def read_metrics(fn: str):\n",
    "    \"\"\"Read and clean STARsolo metrics file, return a pandas dataframe.\"\"\"\n",
    "\n",
    "    metrics = pd.read_csv(fn, header=None).set_index(0).transpose()\n",
    "    for c in metrics.columns:\n",
    "        if \"GeneFull\" in c:\n",
    "            metrics.rename({c: c.replace(\"GeneFull\", \"Genes\")}, axis=1, inplace=True)\n",
    "        else:\n",
    "            metrics.rename({c: c.replace(\"Gene\", \"Genes\")}, axis=1, inplace=True)\n",
    "    for c in [\n",
    "        \"Estimated Number of Cells\",\n",
    "        \"Unique Reads in Cells Mapped to Genes\",\n",
    "        \"Number of Reads\",\n",
    "        \"UMIs in Cells\",\n",
    "        \"Total Genes Detected\",\n",
    "        \"Median UMI per Cell\",\n",
    "        \"Mean UMI per Cell\",\n",
    "        \"Median Genes per Cell\",\n",
    "        \"Mean Genes per Cell\",\n",
    "        \"Median Reads per Cell\",\n",
    "        \"Mean Reads per Cell\",\n",
    "    ]:\n",
    "        metrics[c] = metrics[c].astype(int)\n",
    "\n",
    "    return metrics\n",
    "\n",
    "    # sequencing = metrics.iloc[:,0:5]\n",
    "    # mapping = pd.concat([metrics.iloc[:,0:1], metrics.iloc[:,5:9], metrics.iloc[:,10:12]], axis=1)\n",
    "    # cells = pd.concat(metrics.iloc[:,10], metrics.iloc[:,12:], axis=1)\n",
    "    # return sequencing, mapping, cells"
   ]
  },
  {
   "cell_type": "code",
   "execution_count": null,
   "id": "19485a51",
   "metadata": {},
   "outputs": [],
   "source": [
    "summ = []\n",
    "for r in runsheet[\"run_id\"].unique():\n",
    "    # read in summary metrics\n",
    "    for f in snakemake.input[\"summary\"]:\n",
    "        p = Path(f)\n",
    "        if r != p.parent.parent.name:\n",
    "            continue\n",
    "        d = read_metrics(f)\n",
    "        d[\"run_id\"] = r\n",
    "    summ.append(d)\n",
    "\n",
    "summ = pd.concat(summ).set_index([\"run_id\"])"
   ]
  },
  {
   "cell_type": "code",
   "execution_count": null,
   "id": "ca84ebe5",
   "metadata": {},
   "outputs": [],
   "source": [
    "cm = sns.color_palette(\"flare\", as_cmap=True)\n",
    "pretty_table(summ, cm)"
   ]
  },
  {
   "cell_type": "code",
   "execution_count": null,
   "id": "ac210ad8",
   "metadata": {},
   "outputs": [],
   "source": [
    "# make CSVs for raw and filtered 10x runs\n",
    "for i in [\"raw\", \"filtered\"]:\n",
    "    d = {\"Sample\": [], \"Location\": []}\n",
    "    for r in runsheet[\"run_id\"].unique():\n",
    "        for f in snakemake.input[i]:\n",
    "            if r == Path(f).parent.parent.parent.name:\n",
    "                d[\"Sample\"].append(r)\n",
    "                d[\"Location\"].append(f)\n",
    "    if i == \"raw\":\n",
    "        raw = pg.aggregate_matrices(d)\n",
    "    else:\n",
    "        filtered = pg.aggregate_matrices(d)\n",
    "\n",
    "df = raw.obs\n",
    "del raw\n",
    "df = df.loc[df[\"n_counts\"] > 0, :]  # remove zeros\n",
    "df = df.sort_values([\"Channel\", \"n_counts\"], ascending=False)\n",
    "df[\"isEmpty\"] = ~df.index.isin(filtered.obs.index)\n",
    "df[\"rank\"] = df.groupby(\"Channel\")[\"n_counts\"].rank(\"first\", ascending=False)"
   ]
  },
  {
   "cell_type": "code",
   "execution_count": null,
   "id": "6bf85e24",
   "metadata": {},
   "outputs": [],
   "source": [
    "# plot barcode rank\n",
    "# df.reset_index(inplace=True)\n",
    "px.line(\n",
    "    df,\n",
    "    x=\"rank\",\n",
    "    y=\"n_counts\",\n",
    "    line_group=\"Channel\",\n",
    "    color=\"isEmpty\",\n",
    "    log_x=True,\n",
    "    log_y=True,\n",
    "    width=800,\n",
    "    height=600,\n",
    "    color_discrete_sequence=[\"purple\", \"gray\"],\n",
    "    title=\"Barcode Rank Plot\",\n",
    ")"
   ]
  }
 ],
 "metadata": {
  "kernelspec": {
   "display_name": "Python 3",
   "language": "python",
   "name": "python3"
  },
  "language_info": {
   "codemirror_mode": {
    "name": "ipython",
    "version": 3
   },
   "file_extension": ".py",
   "mimetype": "text/x-python",
   "name": "python",
   "nbconvert_exporter": "python",
   "pygments_lexer": "ipython3",
   "version": "3.9.16"
  },
  "orig_nbformat": 4
 },
 "nbformat": 4,
 "nbformat_minor": 5
}
