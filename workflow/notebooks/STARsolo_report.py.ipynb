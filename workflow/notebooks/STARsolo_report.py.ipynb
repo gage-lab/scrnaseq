{
 "cells": [
  {
   "cell_type": "code",
   "execution_count": null,
   "id": "e057c3d3",
   "metadata": {},
   "outputs": [],
   "source": [
    "from IPython.display import Markdown as md\n",
    "from pathlib import Path\n",
    "import tempfile\n",
    "import pandas as pd\n",
    "import numpy as np\n",
    "import seaborn as sns\n",
    "import pegasus as pg\n",
    "import plotly.express as px\n",
    "import matplotlib.pyplot as plt\n",
    "import matplotlib.image as mpimg\n",
    "from matplotlib import colors\n",
    "import logging\n",
    "\n",
    "logger = logging.getLogger(\"pegasus\")\n",
    "logger.setLevel(logging.WARNING)"
   ]
  },
  {
   "cell_type": "code",
   "execution_count": null,
   "id": "bc8a989e",
   "metadata": {},
   "outputs": [],
   "source": [
    "md(f\"# STARsolo report for {snakemake.wildcards.soloFeatures}\")"
   ]
  },
  {
   "cell_type": "code",
   "execution_count": null,
   "id": "7b853694",
   "metadata": {},
   "outputs": [],
   "source": [
    "runsheet = pd.read_csv(snakemake.config[\"runsheet\"], sep=\"\\t\")"
   ]
  },
  {
   "attachments": {},
   "cell_type": "markdown",
   "id": "cc419084",
   "metadata": {},
   "source": [
    "## STARsolo metrics"
   ]
  },
  {
   "cell_type": "code",
   "execution_count": null,
   "id": "463257ef",
   "metadata": {},
   "outputs": [],
   "source": [
    "def read_metrics(fn: str):\n",
    "    \"\"\"Read and cleam STARsolo metrics file, return a pandas dataframe.\"\"\"\n",
    "\n",
    "    metrics = pd.read_csv(fn, header=None).set_index(0).transpose()\n",
    "    for c in metrics.columns:\n",
    "        if \"GeneFull\" in c:\n",
    "            metrics.rename({c: c.replace(\"GeneFull\", \"Genes\")}, axis=1, inplace=True)\n",
    "        else:\n",
    "            metrics.rename({c: c.replace(\"Gene\", \"Genes\")}, axis=1, inplace=True)\n",
    "    for c in [\n",
    "        \"Estimated Number of Cells\",\n",
    "        \"Unique Reads in Cells Mapped to Genes\",\n",
    "        \"Number of Reads\",\n",
    "        \"UMIs in Cells\",\n",
    "        \"Total Genes Detected\",\n",
    "        \"Median UMI per Cell\",\n",
    "        \"Median Genes per Cell\",\n",
    "        \"Median Reads per Cell\",\n",
    "    ]:\n",
    "        metrics[c] = metrics[c].astype(int)\n",
    "\n",
    "    return metrics\n",
    "\n",
    "    # sequencing = metrics.iloc[:,0:5]\n",
    "    # mapping = pd.concat([metrics.iloc[:,0:1], metrics.iloc[:,5:9], metrics.iloc[:,10:12]], axis=1)\n",
    "    # cells = pd.concat(metrics.iloc[:,10], metrics.iloc[:,12:], axis=1)\n",
    "    # return sequencing, mapping, cells"
   ]
  },
  {
   "cell_type": "code",
   "execution_count": null,
   "id": "19485a51",
   "metadata": {},
   "outputs": [],
   "source": [
    "summ = []\n",
    "for r in runsheet[\"run_id\"].unique():\n",
    "    # read in summary metrics\n",
    "    for f in snakemake.input[\"summary\"]:\n",
    "        p = Path(f)\n",
    "        if r != p.parent.parent.name:\n",
    "            continue\n",
    "        d = read_metrics(f)\n",
    "        d[\"run_id\"] = r\n",
    "    summ.append(d)\n",
    "\n",
    "summ = pd.concat(summ).set_index([\"run_id\"])"
   ]
  },
  {
   "cell_type": "code",
   "execution_count": null,
   "id": "ca84ebe5",
   "metadata": {},
   "outputs": [],
   "source": [
    "# generate a normalized color map for each column of the dataframe\n",
    "cm = sns.color_palette(\"flare\", as_cmap=True)\n",
    "\n",
    "\n",
    "def background_gradient(s, cmap=\"PuBu\"):\n",
    "    if s.min() > 0 and s.max() < 1:\n",
    "        norm = colors.PowerNorm(2, vmin=0, vmax=1)\n",
    "    else:\n",
    "        norm = colors.PowerNorm(2, vmin=0, vmax=s.max())\n",
    "    normed = norm(s.values)\n",
    "    c = [colors.rgb2hex(x) for x in plt.colormaps.get_cmap(cmap)(normed)]\n",
    "    return [f\"background-color: {color}\" for color in c]\n",
    "\n",
    "\n",
    "summ.style.format(precision=2).apply(background_gradient, cmap=cm)"
   ]
  },
  {
   "cell_type": "code",
   "execution_count": null,
   "id": "ac210ad8",
   "metadata": {},
   "outputs": [],
   "source": [
    "# make CSVs for raw and filtered 10x runs\n",
    "for i in [\"raw\", \"filtered\"]:\n",
    "    with tempfile.NamedTemporaryFile(mode=\"w\") as file:\n",
    "        print(\"Sample,Location\", file=file)\n",
    "        for r in runsheet[\"run_id\"].unique():\n",
    "            for f in snakemake.input[i]:\n",
    "                # raw count matrix\n",
    "                if r == Path(f).parent.parent.parent.name:\n",
    "                    print(f\"{r},{f}\", file=file)\n",
    "        file.seek(0)\n",
    "        if i == \"raw\":\n",
    "            raw = pg.aggregate_matrices(file.name)\n",
    "        else:\n",
    "            filtered = pg.aggregate_matrices(file.name)\n",
    "\n",
    "df = raw.obs\n",
    "del raw\n",
    "df = df.loc[df[\"n_counts\"] > 0, :]  # remove zeros\n",
    "df = df.sort_values([\"Channel\", \"n_counts\"], ascending=False)\n",
    "df[\"isEmpty\"] = ~df.index.isin(filtered.obs.index)\n",
    "df[\"rank\"] = df.groupby(\"Channel\")[\"n_counts\"].rank(\"first\", ascending=False)"
   ]
  },
  {
   "cell_type": "code",
   "execution_count": null,
   "id": "6bf85e24",
   "metadata": {},
   "outputs": [],
   "source": [
    "# plot barcode rank\n",
    "# df.reset_index(inplace=True)\n",
    "px.line(\n",
    "    df,\n",
    "    x=\"rank\",\n",
    "    y=\"n_counts\",\n",
    "    line_group=\"Channel\",\n",
    "    color=\"isEmpty\",\n",
    "    log_x=True,\n",
    "    log_y=True,\n",
    "    width=800,\n",
    "    height=600,\n",
    "    color_discrete_sequence=[\"purple\", \"gray\"],\n",
    "    title=\"Barcode Rank Plot\",\n",
    ")"
   ]
  },
  {
   "attachments": {},
   "cell_type": "markdown",
   "id": "a32cba92",
   "metadata": {},
   "source": [
    "## Cell QC: Total Counts, Total Genes, Percent MT, and doublet scores"
   ]
  },
  {
   "cell_type": "code",
   "execution_count": null,
   "id": "95717e14",
   "metadata": {},
   "outputs": [],
   "source": [
    "# calculate QC metrics\n",
    "pg.qc_metrics(filtered, mito_prefix=\"MT-\")\n",
    "\n",
    "filtered.obs[\"log1p_n_counts\"] = np.log1p(filtered.obs[\"n_counts\"])\n",
    "filtered.obs[\"log1p_n_genes\"] = np.log1p(filtered.obs[\"n_genes\"])\n",
    "df = filtered.obs"
   ]
  },
  {
   "cell_type": "code",
   "execution_count": null,
   "id": "50b665b9",
   "metadata": {},
   "outputs": [],
   "source": [
    "plot_df = df.melt(\n",
    "    id_vars=[\"Channel\"],\n",
    "    value_vars=[\"log1p_n_counts\", \"log1p_n_genes\", \"percent_mito\"],\n",
    "    var_name=\"metric\",\n",
    ")\n",
    "\n",
    "sns.catplot(\n",
    "    plot_df,\n",
    "    x=\"Channel\",\n",
    "    y=\"value\",\n",
    "    row=\"metric\",\n",
    "    kind=\"violin\",\n",
    "    sharey=False,\n",
    ")"
   ]
  },
  {
   "cell_type": "code",
   "execution_count": null,
   "id": "45030137",
   "metadata": {},
   "outputs": [],
   "source": [
    "px.scatter(\n",
    "    df,\n",
    "    x=\"n_counts\",\n",
    "    y=\"n_genes\",\n",
    "    facet_col=\"Channel\",\n",
    "    facet_col_wrap=df[\"Channel\"].nunique() if df[\"Channel\"].nunique() <= 4 else 4,\n",
    ")"
   ]
  },
  {
   "cell_type": "code",
   "execution_count": null,
   "id": "3854f7a1",
   "metadata": {},
   "outputs": [],
   "source": [
    "px.scatter(\n",
    "    df,\n",
    "    x=\"log1p_n_counts\",\n",
    "    y=\"log1p_n_genes\",\n",
    "    facet_col=\"Channel\",\n",
    "    facet_col_wrap=df[\"Channel\"].nunique() if df[\"Channel\"].nunique() <= 4 else 4,\n",
    ")"
   ]
  },
  {
   "cell_type": "code",
   "execution_count": null,
   "id": "0f271bb3",
   "metadata": {},
   "outputs": [],
   "source": [
    "# handle test data\n",
    "nPCs = 3 if filtered.shape[0] < 100 else 30\n",
    "\n",
    "# infer doublets using scrublet\n",
    "pg.infer_doublets(filtered, channel_attr=\"Channel\", n_prin_comps=nPCs)\n",
    "for c in df[\"Channel\"].unique():\n",
    "    plt.close()\n",
    "\n",
    "for c in df[\"Channel\"].unique():\n",
    "    image = mpimg.imread(f\"sample.{c}.dbl.png\")\n",
    "    plt.imshow(image)\n",
    "    plt.axis(\"off\")\n",
    "    plt.title(f\"Scrublet for channel {c}\")\n",
    "    plt.figure(figsize=(10, 10))\n",
    "    plt.show()"
   ]
  }
 ],
 "metadata": {
  "kernelspec": {
   "display_name": "Python 3",
   "language": "python",
   "name": "python3"
  },
  "language_info": {
   "codemirror_mode": {
    "name": "ipython",
    "version": 3
   },
   "file_extension": ".py",
   "mimetype": "text/x-python",
   "name": "python",
   "nbconvert_exporter": "python",
   "pygments_lexer": "ipython3",
   "version": "3.9.16"
  },
  "orig_nbformat": 4
 },
 "nbformat": 4,
 "nbformat_minor": 5
}
