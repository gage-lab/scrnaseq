{
 "cells": [
  {
   "cell_type": "code",
   "execution_count": 2,
   "id": "e057c3d3",
   "metadata": {},
   "outputs": [],
   "source": [
    "from IPython.display import Markdown as md\n",
    "from pathlib import Path\n",
    "import pandas as pd\n",
    "import seaborn as sns\n",
    "import pegasus as pg\n",
    "import plotly.express as px\n",
    "import logging, sys, os\n",
    "\n",
    "# get access to src module\n",
    "if snakemake.config[\"istest\"]:\n",
    "    sys.path.append((os.path.abspath(\"../workflow\")))\n",
    "else:\n",
    "    sys.path.append((os.path.abspath(\"workflow\")))\n",
    "\n",
    "from src.plot_utils import pretty_table\n",
    "\n",
    "logging.getLogger(\"pegasus\").setLevel(logging.WARNING)\n",
    "logging.getLogger(\"pegasusio\").setLevel(logging.WARNING)"
   ]
  },
  {
   "cell_type": "code",
   "execution_count": null,
   "id": "c561dde8",
   "metadata": {},
   "outputs": [],
   "source": [
    "md(f\"# STARsolo report for {snakemake.wildcards.soloFeatures}\")"
   ]
  },
  {
   "cell_type": "code",
   "execution_count": 4,
   "id": "7b853694",
   "metadata": {},
   "outputs": [],
   "source": [
    "runsheet = pd.read_csv(snakemake.config[\"runsheet\"], sep=\"\\t\")"
   ]
  },
  {
   "attachments": {},
   "cell_type": "markdown",
   "id": "cc419084",
   "metadata": {},
   "source": [
    "## Metrics"
   ]
  },
  {
   "cell_type": "code",
   "execution_count": 5,
   "id": "463257ef",
   "metadata": {},
   "outputs": [],
   "source": [
    "def read_metrics(fn: str):\n",
    "    \"\"\"Read and clean STARsolo metrics file, return a pandas dataframe.\"\"\"\n",
    "\n",
    "    metrics = pd.read_csv(fn, header=None).set_index(0).transpose()\n",
    "    for c in metrics.columns:\n",
    "        if \"GeneFull\" in c:\n",
    "            metrics.rename({c: c.replace(\"GeneFull\", \"Genes\")}, axis=1, inplace=True)\n",
    "        else:\n",
    "            metrics.rename({c: c.replace(\"Gene\", \"Genes\")}, axis=1, inplace=True)\n",
    "    for c in [\n",
    "        \"Estimated Number of Cells\",\n",
    "        \"Unique Reads in Cells Mapped to Genes\",\n",
    "        \"Number of Reads\",\n",
    "        \"UMIs in Cells\",\n",
    "        \"Total Genes Detected\",\n",
    "        \"Median UMI per Cell\",\n",
    "        \"Mean UMI per Cell\",\n",
    "        \"Median Genes per Cell\",\n",
    "        \"Mean Genes per Cell\",\n",
    "        \"Median Reads per Cell\",\n",
    "        \"Mean Reads per Cell\",\n",
    "    ]:\n",
    "        metrics[c] = metrics[c].astype(int)\n",
    "\n",
    "    return metrics"
   ]
  },
  {
   "cell_type": "code",
   "execution_count": null,
   "id": "d653c75f",
   "metadata": {},
   "outputs": [],
   "source": [
    "# remake input file into nested dictionary\n",
    "samples = {}\n",
    "for i in [\"raw\", \"filtered\", \"summary\"]:\n",
    "    samples[i] = {\"run\": [], \"file\": []}\n",
    "    for f in snakemake.input[i]:\n",
    "        p = Path(f)\n",
    "        if i == \"summary\":\n",
    "            samples[i][\"run\"].append(p.parent.parent.name)\n",
    "        else:\n",
    "            samples[i][\"run\"].append(p.parent.parent.parent.name)\n",
    "        samples[i][\"file\"].append(f)\n",
    "    samples[i] = pd.DataFrame(samples[i])"
   ]
  },
  {
   "cell_type": "code",
   "execution_count": null,
   "id": "19485a51",
   "metadata": {},
   "outputs": [],
   "source": [
    "summ = []\n",
    "for s in samples[\"summary\"].itertuples():\n",
    "    d = read_metrics(s.file)\n",
    "    d[\"run_id\"] = s.run\n",
    "    summ.append(d)\n",
    "\n",
    "summ = pd.concat(summ).set_index([\"run_id\"])"
   ]
  },
  {
   "cell_type": "code",
   "execution_count": null,
   "id": "ca84ebe5",
   "metadata": {},
   "outputs": [],
   "source": [
    "cm = sns.color_palette(\"flare\", as_cmap=True)\n",
    "pretty_table(summ, cm)"
   ]
  },
  {
   "cell_type": "code",
   "execution_count": null,
   "id": "873cabaf",
   "metadata": {},
   "outputs": [],
   "source": [
    "to_agg = {\"raw\": [], \"filtered\": []}\n",
    "for i in [\"raw\", \"filtered\"]:\n",
    "    d = {\"Sample\": [], \"Location\": []}\n",
    "    for s in samples[i].itertuples():\n",
    "        d[\"Sample\"].append(s.run)\n",
    "        d[\"Location\"].append(s.file)\n",
    "    to_agg[i] = pd.DataFrame(d)\n",
    "\n",
    "raw = pg.aggregate_matrices(to_agg[\"raw\"], default_ref=\"GRCh38\", min_umis=1)\n",
    "df = raw.obs\n",
    "del raw\n",
    "df = df.sort_values([\"Channel\", \"n_counts\"], ascending=False)\n",
    "filtered = pg.aggregate_matrices(to_agg[\"filtered\"], default_ref=\"GRCh38\")\n",
    "df[\"isEmpty\"] = ~df.index.isin(filtered.obs.index)\n",
    "df[\"rank\"] = df.groupby(\"Channel\")[\"n_counts\"].rank(\"first\", ascending=False)\n",
    "del filtered"
   ]
  },
  {
   "cell_type": "code",
   "execution_count": null,
   "id": "6bf85e24",
   "metadata": {},
   "outputs": [],
   "source": [
    "# plot barcode rank\n",
    "# df.reset_index(inplace=True)\n",
    "px.line(\n",
    "    df,\n",
    "    x=\"rank\",\n",
    "    y=\"n_counts\",\n",
    "    line_group=\"Channel\",\n",
    "    color=\"isEmpty\",\n",
    "    log_x=True,\n",
    "    log_y=True,\n",
    "    width=800,\n",
    "    height=600,\n",
    "    color_discrete_sequence=[\"purple\", \"gray\"],\n",
    "    title=\"Barcode Rank Plot\",\n",
    ")"
   ]
  }
 ],
 "metadata": {
  "kernelspec": {
   "display_name": "Python 3",
   "language": "python",
   "name": "python3"
  },
  "language_info": {
   "codemirror_mode": {
    "name": "ipython",
    "version": 3
   },
   "file_extension": ".py",
   "mimetype": "text/x-python",
   "name": "python",
   "nbconvert_exporter": "python",
   "pygments_lexer": "ipython3",
   "version": "3.9.16"
  },
  "orig_nbformat": 4
 },
 "nbformat": 4,
 "nbformat_minor": 5
}
