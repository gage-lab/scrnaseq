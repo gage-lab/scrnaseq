{
 "cells": [
  {
   "cell_type": "code",
   "execution_count": null,
   "id": "e057c3d3",
   "metadata": {},
   "outputs": [],
   "source": [
    "from IPython.display import Markdown as md\n",
    "from pathlib import Path\n",
    "import pandas as pd\n",
    "import seaborn as sns\n",
    "import scanpy as sc\n",
    "import scanpy.external as sce\n",
    "import anndata as ad\n",
    "import plotly.express as px\n",
    "import matplotlib.pyplot as plt\n",
    "from matplotlib import colors"
   ]
  },
  {
   "cell_type": "code",
   "execution_count": null,
   "id": "bc8a989e",
   "metadata": {},
   "outputs": [],
   "source": [
    "md(f\"# STARsolo report for {snakemake.wildcards.soloFeatures}\")"
   ]
  },
  {
   "cell_type": "code",
   "execution_count": null,
   "id": "463257ef",
   "metadata": {},
   "outputs": [],
   "source": [
    "def rank_label_drops(raw: ad.AnnData, filtered: ad.AnnData):\n",
    "    \"\"\"Make barcode rank plot from two AnnData objects.\"\"\"\n",
    "\n",
    "    assert (\n",
    "        \"total_counts\" in raw.obs.columns\n",
    "    ), \"please run calculate_qc_metrics() on the raw data\"\n",
    "\n",
    "    df = raw.obs.reset_index().rename(columns={raw.obs.index.name: \"cell_barcode\"})\n",
    "    del raw\n",
    "    df = df.loc[df[\"total_counts\"] > 0, :]\n",
    "    df[\"isEmpty\"] = ~df.index.isin(filtered.obs.index)\n",
    "    del filtered\n",
    "    df = df.sort_values(by=\"total_counts\", ascending=False)\n",
    "    df[\"rank\"] = range(1, df.shape[0] + 1)\n",
    "\n",
    "    return df\n",
    "\n",
    "\n",
    "def read_metrics(fn: str):\n",
    "    \"\"\"Read and cleam STARsolo metrics file, return a pandas dataframe.\"\"\"\n",
    "\n",
    "    metrics = pd.read_csv(fn, header=None).set_index(0).transpose()\n",
    "    for c in metrics.columns:\n",
    "        if \"GeneFull\" in c:\n",
    "            metrics.rename({c: c.replace(\"GeneFull\", \"Genes\")}, axis=1, inplace=True)\n",
    "        else:\n",
    "            metrics.rename({c: c.replace(\"Gene\", \"Genes\")}, axis=1, inplace=True)\n",
    "    for c in [\n",
    "        \"Estimated Number of Cells\",\n",
    "        \"Unique Reads in Cells Mapped to Genes\",\n",
    "        \"Number of Reads\",\n",
    "        \"UMIs in Cells\",\n",
    "        \"Total Genes Detected\",\n",
    "        \"Median UMI per Cell\",\n",
    "        \"Median Genes per Cell\",\n",
    "        \"Median Reads per Cell\",\n",
    "    ]:\n",
    "        metrics[c] = metrics[c].astype(int)\n",
    "\n",
    "    return metrics\n",
    "\n",
    "    # sequencing = metrics.iloc[:,0:5]\n",
    "    # mapping = pd.concat([metrics.iloc[:,0:1], metrics.iloc[:,5:9], metrics.iloc[:,10:12]], axis=1)\n",
    "    # cells = pd.concat(metrics.iloc[:,10], metrics.iloc[:,12:], axis=1)\n",
    "    # return sequencing, mapping, cells"
   ]
  },
  {
   "attachments": {},
   "cell_type": "markdown",
   "id": "6a4c691e",
   "metadata": {},
   "source": [
    "## Read the data"
   ]
  },
  {
   "cell_type": "code",
   "execution_count": null,
   "id": "38be1203",
   "metadata": {},
   "outputs": [],
   "source": [
    "# read in STARsolo output for each run\n",
    "runsheet = pd.read_csv(snakemake.config[\"runsheet\"], sep=\"\\t\")\n",
    "\n",
    "df_list, summ_list = [], []\n",
    "for r in runsheet[\"run_id\"].unique():\n",
    "    data = {}\n",
    "    for raw, filt in zip(snakemake.input[\"raw\"], snakemake.input[\"filtered\"]):\n",
    "\n",
    "        # raw count matrix\n",
    "        if r == Path(raw).parent.parent.parent.name:\n",
    "            data[\"raw\"] = sc.read_10x_mtx(Path(raw).parent, var_names=\"gene_symbols\")\n",
    "            sc.pp.calculate_qc_metrics(\n",
    "                data[\"raw\"], percent_top=None, log1p=False, inplace=True\n",
    "            )\n",
    "\n",
    "        # filtered count matrix\n",
    "        if r == Path(filt).parent.parent.parent.name:\n",
    "            data[\"filtered\"] = sc.read_10x_mtx(\n",
    "                Path(filt).parent, var_names=\"gene_symbols\"\n",
    "            )\n",
    "            sc.pp.calculate_qc_metrics(\n",
    "                data[\"filtered\"], percent_top=None, log1p=False, inplace=True\n",
    "            )\n",
    "\n",
    "    # rank droplets by total_count and label droplets as empty\n",
    "    df = rank_label_drops(data[\"raw\"], data[\"filtered\"])\n",
    "    df[\"run_id\"] = r\n",
    "    df_list.append(df)\n",
    "\n",
    "    # read in summary metrics\n",
    "    for f in snakemake.input[\"summary\"]:\n",
    "        p = Path(f)\n",
    "        if r != p.parent.parent.name:\n",
    "            continue\n",
    "        data[\"summary\"] = read_metrics(f)\n",
    "        data[\"summary\"][\"run_id\"] = r\n",
    "\n",
    "    summ_list.append(data[\"summary\"])\n",
    "\n",
    "    print(f\"Loaded STARsolo from {r}\")\n",
    "\n",
    "df = pd.concat(df_list).set_index([\"run_id\"])\n",
    "summ = pd.concat(summ_list).set_index([\"run_id\"])"
   ]
  },
  {
   "attachments": {},
   "cell_type": "markdown",
   "id": "cc419084",
   "metadata": {},
   "source": [
    "## STARsolo metrics"
   ]
  },
  {
   "cell_type": "code",
   "execution_count": null,
   "id": "ca84ebe5",
   "metadata": {},
   "outputs": [],
   "source": [
    "# generate a normalized color map for each column of the dataframe\n",
    "cm = sns.color_palette(\"flare\", as_cmap=True)\n",
    "\n",
    "\n",
    "def background_gradient(s, cmap=\"PuBu\"):\n",
    "    if s.min() > 0 and s.max() < 1:\n",
    "        norm = colors.PowerNorm(2, vmin=0, vmax=1)\n",
    "    else:\n",
    "        norm = colors.PowerNorm(2, vmin=0, vmax=s.max())\n",
    "    normed = norm(s.values)\n",
    "    c = [colors.rgb2hex(x) for x in plt.cm.get_cmap(cmap)(normed)]\n",
    "    return [f\"background-color: {color}\" for color in c]\n",
    "\n",
    "\n",
    "summ.style.format(precision=2).apply(background_gradient, cmap=cm)"
   ]
  },
  {
   "attachments": {},
   "cell_type": "markdown",
   "id": "1f37341d",
   "metadata": {},
   "source": [
    "## Droplet QC: Barcode Rank plot"
   ]
  },
  {
   "cell_type": "code",
   "execution_count": null,
   "id": "6bf85e24",
   "metadata": {},
   "outputs": [],
   "source": [
    "# plot barcode rank\n",
    "df.reset_index(inplace=True)\n",
    "px.line(\n",
    "    df,\n",
    "    x=\"rank\",\n",
    "    y=\"total_counts\",\n",
    "    color=\"run_id\",\n",
    "    line_dash=\"isEmpty\",\n",
    "    log_x=True,\n",
    "    log_y=True,\n",
    "    width=800,\n",
    "    height=600,\n",
    ")"
   ]
  },
  {
   "cell_type": "code",
   "execution_count": null,
   "id": "95717e14",
   "metadata": {},
   "outputs": [],
   "source": [
    "df_list = []\n",
    "for r in runsheet[\"run_id\"].unique():\n",
    "    for f in snakemake.input[\"filtered\"]:\n",
    "        if r == Path(f).parent.parent.parent.name:\n",
    "            adata = sc.read_10x_mtx(Path(f).parent, var_names=\"gene_symbols\")\n",
    "            adata.var[\"mito\"] = adata.var_names.str.startswith(\"MT-\")\n",
    "            sc.pp.calculate_qc_metrics(adata, qc_vars=[\"mito\"], inplace=True)\n",
    "\n",
    "    df = adata.obs.reset_index().rename(columns={adata.obs.index.name: \"cell_barcode\"})\n",
    "    df[\"run_id\"] = r\n",
    "    df_list.append(df)\n",
    "\n",
    "    print(f\"Loaded STARsolo from {r}\")\n",
    "\n",
    "df = pd.concat(df_list)"
   ]
  },
  {
   "attachments": {},
   "cell_type": "markdown",
   "id": "a32cba92",
   "metadata": {},
   "source": [
    "## Cell QC: Total Counts, Total Genes, Percent MT, and dublet scores"
   ]
  },
  {
   "cell_type": "code",
   "execution_count": null,
   "id": "50b665b9",
   "metadata": {},
   "outputs": [],
   "source": [
    "sns.catplot(\n",
    "    data=df,\n",
    "    x=\"run_id\",\n",
    "    y=\"log1p_total_counts\",\n",
    "    kind=\"violin\",\n",
    ")"
   ]
  },
  {
   "cell_type": "code",
   "execution_count": null,
   "id": "84b72fe6",
   "metadata": {},
   "outputs": [],
   "source": [
    "sns.catplot(\n",
    "    data=df,\n",
    "    x=\"run_id\",\n",
    "    y=\"log1p_n_genes_by_counts\",\n",
    "    kind=\"violin\",\n",
    ")"
   ]
  },
  {
   "cell_type": "code",
   "execution_count": null,
   "id": "b08c98ed",
   "metadata": {},
   "outputs": [],
   "source": [
    "sns.catplot(\n",
    "    data=df,\n",
    "    x=\"run_id\",\n",
    "    y=\"pct_counts_mito\",\n",
    "    kind=\"violin\",\n",
    ")"
   ]
  },
  {
   "cell_type": "code",
   "execution_count": null,
   "id": "45030137",
   "metadata": {},
   "outputs": [],
   "source": [
    "px.scatter(\n",
    "    df,\n",
    "    x=\"total_counts\",\n",
    "    y=\"n_genes_by_counts\",\n",
    "    facet_col=\"run_id\",\n",
    "    facet_col_wrap=df[\"run_id\"].nunique() if df[\"run_id\"].nunique() <= 4 else 4,\n",
    ")"
   ]
  },
  {
   "cell_type": "code",
   "execution_count": null,
   "id": "3854f7a1",
   "metadata": {},
   "outputs": [],
   "source": [
    "px.scatter(\n",
    "    df,\n",
    "    x=\"log1p_total_counts\",\n",
    "    y=\"log1p_n_genes_by_counts\",\n",
    "    facet_col=\"run_id\",\n",
    "    facet_col_wrap=df[\"run_id\"].nunique() if df[\"run_id\"].nunique() <= 4 else 4,\n",
    ")"
   ]
  }
 ],
 "metadata": {
  "kernelspec": {
   "display_name": "Python 3",
   "language": "python",
   "name": "python3"
  },
  "language_info": {
   "codemirror_mode": {
    "name": "ipython",
    "version": 3
   },
   "file_extension": ".py",
   "mimetype": "text/x-python",
   "name": "python",
   "nbconvert_exporter": "python",
   "pygments_lexer": "ipython3",
   "version": "3.9.16"
  },
  "orig_nbformat": 4
 },
 "nbformat": 4,
 "nbformat_minor": 5
}
