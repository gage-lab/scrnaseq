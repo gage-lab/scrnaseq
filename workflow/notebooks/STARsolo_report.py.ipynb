{
 "cells": [
  {
   "cell_type": "code",
   "execution_count": null,
   "id": "e057c3d3",
   "metadata": {},
   "outputs": [],
   "source": [
    "from pathlib import Path\n",
    "import pandas as pd\n",
    "import seaborn as sns\n",
    "import scanpy as sc\n",
    "import anndata as ad\n",
    "import matplotlib.pyplot as plt\n",
    "from matplotlib import colors"
   ]
  },
  {
   "cell_type": "code",
   "execution_count": null,
   "id": "463257ef",
   "metadata": {},
   "outputs": [],
   "source": [
    "def rank_label_drops(raw: ad.AnnData, filtered: ad.AnnData):\n",
    "\t'''Make barcode rank plot from two AnnData objects.'''\n",
    "\n",
    "\tassert \"total_counts\" in raw.obs.columns, \"please run calculate_qc_metrics() on the raw data\"\n",
    "\n",
    "\tdf = raw.obs\n",
    "\tdel raw\n",
    "\tdf = df.loc[df[\"total_counts\"] > 0, :]\n",
    "\tdf[\"isEmpty\"] = ~df.index.isin(filtered.obs.index)\n",
    "\tdel filtered\n",
    "\tdf = df.sort_values(by=\"total_counts\", ascending=False)\n",
    "\tdf[\"rank\"] = range(1, df.shape[0] + 1)\n",
    "\n",
    "\treturn df\n",
    "\n",
    "def read_metrics(fn: str):\n",
    "\tmetrics = pd.read_csv(fn, header=None).set_index(0).transpose()\n",
    "\tfor c in metrics.columns:\n",
    "\t\tif \"GeneFull\" in c:\n",
    "\t\t\tmetrics.rename({c: c.replace(\"GeneFull\", \"Genes\")}, axis=1, inplace=True)\n",
    "\t\telse:\n",
    "\t\t\tmetrics.rename({c: c.replace(\"Gene\", \"Genes\")}, axis=1, inplace=True)\n",
    "\tfor c in [\"Estimated Number of Cells\", \"Unique Reads in Cells Mapped to Genes\", \"Number of Reads\", \"UMIs in Cells\", \"Total Genes Detected\", \"Median UMI per Cell\", \"Median Genes per Cell\", \"Median Reads per Cell\"]:\n",
    "\t\tmetrics[c] = metrics[c].astype(int)\n",
    "\n",
    "\treturn metrics\n",
    "\n",
    "\t# sequencing = metrics.iloc[:,0:5]\n",
    "\t# mapping = pd.concat([metrics.iloc[:,0:1], metrics.iloc[:,5:9], metrics.iloc[:,10:12]], axis=1)\n",
    "\t# cells = pd.concat(metrics.iloc[:,10], metrics.iloc[:,12:], axis=1)\n",
    "\t# return sequencing, mapping, cells\n"
   ]
  },
  {
   "cell_type": "code",
   "execution_count": null,
   "id": "38be1203",
   "metadata": {},
   "outputs": [],
   "source": [
    "runsheet = pd.read_csv(snakemake.config['runsheet'], sep=\"\\t\")\n",
    "\n",
    "df_list, summ_list = [], []\n",
    "for r in runsheet[\"run_id\"].unique():\n",
    "\tdata = {}\n",
    "\tfor raw, filt in zip(snakemake.input[\"raw\"], snakemake.input[\"filtered\"]):\n",
    "\n",
    "\t\tif r == Path(raw).parent.parent.parent.name:\n",
    "\t\t\tdata['raw'] = sc.read_10x_mtx(Path(raw).parent, var_names=\"gene_symbols\")\n",
    "\t\t\tsc.pp.calculate_qc_metrics(data['raw'], percent_top=None, log1p=False, inplace=True)\n",
    "\n",
    "\t\tif r == Path(filt).parent.parent.parent.name:\n",
    "\t\t\tdata['filtered'] = sc.read_10x_mtx(Path(filt).parent, var_names=\"gene_symbols\")\n",
    "\t\t\tsc.pp.calculate_qc_metrics(data['filtered'], percent_top=None, log1p=False, inplace=True)\n",
    "\n",
    "\tdf = rank_label_drops(data['raw'], data['filtered'])\n",
    "\tdf[\"run_id\"] = r\n",
    "\tdf_list.append(df)\n",
    "\n",
    "\tfor f in snakemake.input[\"summary\"]:\n",
    "\t\tp = Path(f)\n",
    "\t\tif r != p.parent.parent.name:\n",
    "\t\t\tcontinue\n",
    "\t\tdata['summary'] = read_metrics(f)\n",
    "\t\tdata['summary'][\"run_id\"] = r\n",
    "\n",
    "\tsumm_list.append(data['summary'])\n",
    "\n",
    "\tprint(f\"Loaded STARsolo from {r}\")\n",
    "\n",
    "df = pd.concat(df_list).set_index([\"run_id\"])\n",
    "summ = pd.concat(summ_list).set_index([\"run_id\"])"
   ]
  },
  {
   "cell_type": "code",
   "execution_count": null,
   "id": "ca84ebe5",
   "metadata": {},
   "outputs": [],
   "source": [
    "cm = sns.color_palette(\"flare\", as_cmap=True)\n",
    "\n",
    "def background_gradient(s, cmap=\"PuBu\"):\n",
    "    norm = colors.PowerNorm(2, vmin=0, vmax=s.max())\n",
    "    normed = norm(s.values)\n",
    "    c = [colors.rgb2hex(x) for x in plt.colormaps.get_cmap(cmap)(normed)]\n",
    "    return [f'background-color: {color}' for color in c]\n",
    "\n",
    "summ.style.format(precision=2).apply(background_gradient, cmap=cm)"
   ]
  },
  {
   "cell_type": "code",
   "execution_count": null,
   "id": "6bf85e24",
   "metadata": {},
   "outputs": [],
   "source": [
    "fig = sns.relplot(\n",
    "\t\tdata=df, \n",
    "\t\tx=\"rank\", \n",
    "\t\ty=\"total_counts\", \n",
    "\t\tstyle=\"isEmpty\", \n",
    "\t\thue = \"run_id\", \n",
    "\t\tkind = \"line\",\n",
    "\t\tdashes = [(1,0),(1,1)]\n",
    "\t)\n",
    "fig.set(xscale=\"log\", yscale=\"log\", xlabel=\"Rank\", ylabel=\"Total counts\")\n",
    "sns.despine()"
   ]
  },
  {
   "cell_type": "code",
   "execution_count": null,
   "id": "95717e14",
   "metadata": {},
   "outputs": [],
   "source": [
    "df_list = []\n",
    "for r in runsheet[\"run_id\"].unique():\n",
    "\tfor f in snakemake.input[\"filtered\"]:\n",
    "\t\tif r == Path(f).parent.parent.parent.name:\n",
    "\t\t\tadata = sc.read_10x_mtx(Path(f).parent, var_names=\"gene_symbols\")\n",
    "\t\t\tadata.var[\"mito\"] = adata.var_names.str.startswith(\"MT-\")\n",
    "\t\t\tsc.pp.calculate_qc_metrics(adata, qc_vars=[\"mito\"], inplace=True)\n",
    "\n",
    "\tdf = adata.obs\n",
    "\tdf[\"run_id\"] = r\n",
    "\tdf_list.append(df)\n",
    "\n",
    "\tprint(f\"Loaded STARsolo from {r}\")\n",
    "\n",
    "df = pd.concat(df_list)"
   ]
  },
  {
   "cell_type": "code",
   "execution_count": null,
   "id": "50b665b9",
   "metadata": {},
   "outputs": [],
   "source": [
    "sns.catplot(\n",
    "\t\tdata=df,\n",
    "\t\tx=\"run_id\",\n",
    "\t\ty=\"log1p_total_counts\",\n",
    "\t\tkind=\"violin\",\n",
    ")"
   ]
  },
  {
   "cell_type": "code",
   "execution_count": null,
   "id": "84b72fe6",
   "metadata": {},
   "outputs": [],
   "source": [
    "sns.catplot(\n",
    "\t\tdata=df,\n",
    "\t\tx=\"run_id\",\n",
    "\t\ty=\"log1p_n_genes_by_counts\",\n",
    "\t\tkind=\"violin\",\n",
    ")"
   ]
  },
  {
   "cell_type": "code",
   "execution_count": null,
   "id": "b08c98ed",
   "metadata": {},
   "outputs": [],
   "source": [
    "sns.catplot(\n",
    "\t\tdata=df,\n",
    "\t\tx=\"run_id\",\n",
    "\t\ty=\"pct_counts_mito\",\n",
    "\t\tkind=\"violin\",\n",
    ")"
   ]
  },
  {
   "cell_type": "code",
   "execution_count": null,
   "id": "45030137",
   "metadata": {},
   "outputs": [],
   "source": [
    "sns.relplot(\n",
    "\t\tdata=df,\n",
    "\t\tx=\"total_counts\",\n",
    "\t\ty=\"n_genes_by_counts\",\n",
    "\t\thue=\"pct_counts_mito\",\n",
    "\t\tcol=\"run_id\",\n",
    "\t\tcol_wrap=df[\"run_id\"].nunique() if df[\"run_id\"].nunique() <= 4 else 4,\n",
    ")"
   ]
  },
  {
   "cell_type": "code",
   "execution_count": null,
   "id": "3854f7a1",
   "metadata": {},
   "outputs": [],
   "source": [
    "sns.relplot(\n",
    "\t\tdata=df,\n",
    "\t\tx=\"log1p_total_counts\",\n",
    "\t\ty=\"log1p_n_genes_by_counts\",\n",
    "\t\thue=\"pct_counts_mito\",\n",
    "\t\tcol=\"run_id\",\n",
    "\t\tcol_wrap=df[\"run_id\"].nunique() if df[\"run_id\"].nunique() <= 4 else 4,\n",
    ")"
   ]
  }
 ],
 "metadata": {
  "kernelspec": {
   "display_name": "Python 3",
   "language": "python",
   "name": "python3"
  },
  "language_info": {
   "codemirror_mode": {
    "name": "ipython",
    "version": 3
   },
   "file_extension": ".py",
   "mimetype": "text/x-python",
   "name": "python",
   "nbconvert_exporter": "python",
   "pygments_lexer": "ipython3",
   "version": "3.9.16"
  },
  "orig_nbformat": 4
 },
 "nbformat": 4,
 "nbformat_minor": 5
}
