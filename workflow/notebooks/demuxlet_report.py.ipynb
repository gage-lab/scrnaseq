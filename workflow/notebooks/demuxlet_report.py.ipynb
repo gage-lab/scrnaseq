{
 "cells": [
  {
   "cell_type": "code",
   "execution_count": null,
   "id": "6783adad",
   "metadata": {},
   "outputs": [],
   "source": [
    "import pandas as pd\n",
    "from pathlib import Path\n",
    "import seaborn as sns"
   ]
  },
  {
   "attachments": {},
   "cell_type": "markdown",
   "metadata": {},
   "source": [
    "# Demuxlet report"
   ]
  },
  {
   "cell_type": "code",
   "execution_count": null,
   "id": "4896b296",
   "metadata": {},
   "outputs": [],
   "source": [
    "demux = []\n",
    "for f in snakemake.input[\"demuxlet\"]:\n",
    "    r = Path(f).parent.name\n",
    "    df = pd.read_csv(f, sep=\"\\t\")\n",
    "    df[\"Channel\"] = r\n",
    "    df = df[\n",
    "        [\n",
    "            \"BARCODE\",\n",
    "            \"DROPLET.TYPE\",\n",
    "            \"SNG.BEST.GUESS\",\n",
    "            \"DBL.BEST.GUESS\",\n",
    "            \"BEST.LLK\",\n",
    "            \"Channel\",\n",
    "        ]\n",
    "    ]\n",
    "    df.set_index(\"BARCODE\", inplace=True)\n",
    "    df.rename(\n",
    "        columns={\n",
    "            \"DROPLET.TYPE\": \"Droplet Type\",\n",
    "            \"SNG.BEST.GUESS\": \"Singlet Best Guess\",\n",
    "            \"DBL.BEST.GUESS\": \"Doublet Best Guess\",\n",
    "            \"BEST.LLK\": \"Best Log Likelihood\",\n",
    "        },\n",
    "        inplace=True,\n",
    "    )\n",
    "    demux.append(df)\n",
    "demux = pd.concat(demux)"
   ]
  },
  {
   "cell_type": "code",
   "execution_count": null,
   "id": "cd90405d",
   "metadata": {},
   "outputs": [],
   "source": [
    "fig = sns.countplot(demux, x=\"Channel\", hue=\"Droplet Type\")\n",
    "sns.move_legend(fig, \"upper left\", bbox_to_anchor=(1, 1))\n",
    "fig.set(xlabel=\"Channel\", ylabel=\"# Cells\")"
   ]
  },
  {
   "cell_type": "code",
   "execution_count": null,
   "metadata": {},
   "outputs": [],
   "source": [
    "cm = sns.color_palette(\"flare\", as_cmap=True)\n",
    "singlets = (\n",
    "    demux.loc[demux[\"Droplet Type\"] == \"SNG\"]\n",
    "    .groupby([\"Channel\", \"Singlet Best Guess\"])\n",
    "    .count()[\"Droplet Type\"]\n",
    "    .unstack(fill_value=0)\n",
    ")\n",
    "singlets.style.background_gradient(cmap=cm)"
   ]
  }
 ],
 "metadata": {
  "language_info": {
   "name": "python"
  },
  "orig_nbformat": 4
 },
 "nbformat": 4,
 "nbformat_minor": 5
}
