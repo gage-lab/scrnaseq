{
 "cells": [
  {
   "cell_type": "code",
   "execution_count": null,
   "id": "35b6c83a",
   "metadata": {},
   "outputs": [],
   "source": [
    "from IPython.display import Markdown as md\n",
    "from pathlib import Path\n",
    "import numpy as np\n",
    "import pandas as pd\n",
    "import pegasus as pg\n",
    "import matplotlib.pyplot as plt\n",
    "import seaborn as sns\n",
    "import os, sys\n",
    "\n",
    "# get access to src module\n",
    "if snakemake.config[\"istest\"]:\n",
    "    sys.path.append((os.path.abspath(\"../workflow\")))\n",
    "else:\n",
    "    sys.path.append((os.path.abspath(\"workflow\")))\n",
    "\n",
    "from src.plot_utils import pretty_table"
   ]
  },
  {
   "cell_type": "code",
   "execution_count": null,
   "id": "00ae2af5",
   "metadata": {},
   "outputs": [],
   "source": [
    "md(f\"# Filter report for {snakemake.wildcards.soloFeatures}\")"
   ]
  },
  {
   "attachments": {},
   "cell_type": "markdown",
   "id": "b591af31",
   "metadata": {},
   "source": [
    "## Read in data"
   ]
  },
  {
   "cell_type": "code",
   "execution_count": null,
   "id": "d5ab6b84",
   "metadata": {},
   "outputs": [],
   "source": [
    "# remake input file into nested dictionary\n",
    "samples = {}\n",
    "for i in snakemake.input.keys():\n",
    "    samples[i] = {\"run\": [], \"file\": []}\n",
    "    for f in snakemake.input[i]:\n",
    "        p = Path(f)\n",
    "        if i == \"IRescue\":\n",
    "            samples[i][\"run\"].append(p.parent.parent.name)\n",
    "        elif i in [\"STARsolo\", \"CellBender\"]:\n",
    "            samples[i][\"run\"].append(p.parent.parent.parent.name)\n",
    "        elif i == \"Demuxlet\":\n",
    "            samples[i][\"run\"].append(p.parent.name)\n",
    "        else:\n",
    "            continue\n",
    "        samples[i][\"file\"].append(f)\n",
    "    samples[i] = pd.DataFrame(samples[i])"
   ]
  },
  {
   "cell_type": "code",
   "execution_count": null,
   "id": "6ca718b5",
   "metadata": {},
   "outputs": [],
   "source": [
    "d = {\"Sample\": [], \"Location\": [], \"Modality\": []}\n",
    "for m in snakemake.input.keys():\n",
    "    for s in samples[m].itertuples():\n",
    "        if m == \"IRescue\":\n",
    "            mode = \"te\"\n",
    "        elif m in [\"STARsolo\", \"CellBender\"]:\n",
    "            mode = \"rna\"\n",
    "        else:\n",
    "            continue\n",
    "        d[\"Sample\"].append(s.run)\n",
    "        d[\"Location\"].append(s.file)\n",
    "        d[\"Modality\"].append(mode)\n",
    "\n",
    "data = pg.aggregate_matrices(d, default_ref=\"GRCh38\", mito_prefix=\"MT-\")"
   ]
  },
  {
   "cell_type": "code",
   "execution_count": null,
   "id": "7e36158f",
   "metadata": {},
   "outputs": [],
   "source": [
    "if \"Demuxlet\" in snakemake.input.keys():\n",
    "    demux = []\n",
    "    for s in samples[\"Demuxlet\"].itertuples():\n",
    "        df = pd.read_csv(s.file, sep=\"\\t\")\n",
    "        df[\"BARCODE\"] = s.run + \"-\" + df[\"BARCODE\"]\n",
    "        df = df[\n",
    "            [\"BARCODE\", \"DROPLET.TYPE\", \"SNG.BEST.GUESS\", \"DBL.BEST.GUESS\", \"BEST.LLK\"]\n",
    "        ]\n",
    "        df.set_index(\"BARCODE\", inplace=True)\n",
    "        df.rename(\n",
    "            columns={\n",
    "                \"DROPLET.TYPE\": \"assignment\",\n",
    "                \"SNG.BEST.GUESS\": \"Demuxlet Singlet Best Guess\",\n",
    "                \"DBL.BEST.GUESS\": \"Demuxlet Doublet Best Guess\",\n",
    "                \"BEST.LLK\": \"Demuxlet Best Log Likelihood\",\n",
    "            },\n",
    "            inplace=True,\n",
    "        )\n",
    "        demux.append(df)\n",
    "    demux = pd.concat(demux)\n",
    "    data.obs = data.obs.join(demux)"
   ]
  },
  {
   "attachments": {},
   "cell_type": "markdown",
   "id": "feec4c17",
   "metadata": {},
   "source": [
    "## Calculate QC metrics"
   ]
  },
  {
   "cell_type": "code",
   "execution_count": null,
   "id": "298bb253",
   "metadata": {},
   "outputs": [],
   "source": [
    "# doublets\n",
    "pg.infer_doublets(data, channel_attr=\"Channel\", plot_hist=None)\n",
    "pg.mark_doublets(data)\n",
    "\n",
    "if \"assignment\" in data.obs.columns:\n",
    "    pg.qc_metrics(\n",
    "        data,\n",
    "        select_singlets=True,\n",
    "        subset_string=\"SNG\",\n",
    "        min_genes=snakemake.config[\"preprocess\"][\"min_genes\"],\n",
    "        min_umis=snakemake.config[\"preprocess\"][\"min_counts\"],\n",
    "        percent_mito=snakemake.config[\"preprocess\"][\"max_pct_mt\"],\n",
    "    )\n",
    "else:\n",
    "    pg.qc_metrics(\n",
    "        data,\n",
    "        select_singlets=True,\n",
    "        min_genes=snakemake.config[\"preprocess\"][\"min_genes\"],\n",
    "        min_umis=snakemake.config[\"preprocess\"][\"min_counts\"],\n",
    "        percent_mito=snakemake.config[\"preprocess\"][\"max_pct_mt\"],\n",
    "    )\n",
    "data.obs[\"log1p_n_genes\"] = np.log1p(data.obs[\"n_genes\"])\n",
    "data.obs[\"log1p_n_counts\"] = np.log1p(data.obs[\"n_counts\"])"
   ]
  },
  {
   "attachments": {},
   "cell_type": "markdown",
   "id": "e4682e19",
   "metadata": {},
   "source": [
    "## Visualize"
   ]
  },
  {
   "cell_type": "code",
   "execution_count": null,
   "id": "a70a844b",
   "metadata": {},
   "outputs": [],
   "source": [
    "for n, c in zip(\n",
    "    [\"log1p_n_counts\", \"log1p_n_genes\", \"percent_mito\", \"doublet_score\"],\n",
    "    [\"min_counts\", \"min_genes\", \"max_pct_mt\", \"\"],\n",
    "):\n",
    "    assert n in data.obs.columns, f\"{n} not found in df.columns\"\n",
    "\n",
    "    plt.clf()\n",
    "    fig = sns.violinplot(\n",
    "        data.obs, x=\"Channel\", y=n, hue=\"passed_qc\", split=True, inner=None\n",
    "    )\n",
    "    if n in [\"log1p_n_counts\", \"log1p_n_genes\"]:\n",
    "        fig.axhline(\n",
    "            np.log1p(snakemake.config[\"preprocess\"][c]),\n",
    "            linestyle=\"dashed\",\n",
    "            color=\"red\",\n",
    "        )\n",
    "    elif n == \"percent_mito\":\n",
    "        fig.axhline(\n",
    "            snakemake.config[\"preprocess\"][c],\n",
    "            linestyle=\"dashed\",\n",
    "            color=\"red\",\n",
    "        )\n",
    "    sns.despine()\n",
    "    plt.show()\n",
    "\n",
    "vars = [\"percent_mito\", \"doublet_score\"]\n",
    "if \"assignment\" in data.obs.columns:\n",
    "    vars.append(\"assignment\")\n",
    "vars.append(\"passed_qc\")\n",
    "for n in vars:\n",
    "    plt.clf()\n",
    "    fig = sns.relplot(\n",
    "        data.obs,\n",
    "        x=\"n_counts\",\n",
    "        y=\"n_genes\",\n",
    "        hue=n,\n",
    "        col=\"Channel\",\n",
    "        kind=\"scatter\",\n",
    "        alpha=0.5,\n",
    "    )\n",
    "    fig.set(xscale=\"log\", yscale=\"log\")\n",
    "    for ax in fig.axes[0]:\n",
    "        ax.axhline(\n",
    "            snakemake.config[\"preprocess\"][\"min_genes\"],\n",
    "            linestyle=\"dashed\",\n",
    "            color=\"red\",\n",
    "        )\n",
    "        ax.axvline(\n",
    "            snakemake.config[\"preprocess\"][\"min_counts\"],\n",
    "            linestyle=\"dashed\",\n",
    "            color=\"red\",\n",
    "        )\n",
    "    sns.despine()\n",
    "    plt.show()"
   ]
  },
  {
   "cell_type": "markdown",
   "id": "d74de10d",
   "metadata": {},
   "source": [
    "## Filter stats"
   ]
  },
  {
   "cell_type": "code",
   "execution_count": null,
   "id": "616946f6",
   "metadata": {},
   "outputs": [],
   "source": [
    "df_qc = pg.get_filter_stats(data)\n",
    "\n",
    "cm = sns.color_palette(\"flare\", as_cmap=True)\n",
    "pretty_table(df_qc, cmap=cm)"
   ]
  },
  {
   "attachments": {},
   "cell_type": "markdown",
   "id": "7e1051c1",
   "metadata": {},
   "source": [
    "## Do the filtering"
   ]
  },
  {
   "cell_type": "code",
   "execution_count": null,
   "id": "7386de4b",
   "metadata": {},
   "outputs": [],
   "source": [
    "pg.filter_data(data)"
   ]
  },
  {
   "attachments": {},
   "cell_type": "markdown",
   "id": "1795cb12",
   "metadata": {},
   "source": [
    "## Save"
   ]
  },
  {
   "cell_type": "code",
   "execution_count": null,
   "id": "a28bd435",
   "metadata": {},
   "outputs": [],
   "source": [
    "pg.write_output(data, snakemake.output[0])"
   ]
  }
 ],
 "metadata": {
  "kernelspec": {
   "display_name": "Python 3",
   "language": "python",
   "name": "python3"
  },
  "language_info": {
   "codemirror_mode": {
    "name": "ipython",
    "version": 3
   },
   "file_extension": ".py",
   "mimetype": "text/x-python",
   "name": "python",
   "nbconvert_exporter": "python",
   "pygments_lexer": "ipython3",
   "version": "3.9.16"
  },
  "orig_nbformat": 4,
  "vscode": {
   "interpreter": {
    "hash": "31f2aee4e71d21fbe5cf8b01ff0e069b9275f58929596ceb00d14d90e3e16cd6"
   }
  }
 },
 "nbformat": 4,
 "nbformat_minor": 5
}
