{
 "cells": [
  {
   "attachments": {},
   "cell_type": "markdown",
   "id": "00ae2af5",
   "metadata": {},
   "source": [
    "# Filter dataset"
   ]
  },
  {
   "cell_type": "code",
   "execution_count": null,
   "id": "35b6c83a",
   "metadata": {},
   "outputs": [],
   "source": [
    "from pathlib import Path\n",
    "import numpy as np\n",
    "import pandas as pd\n",
    "import pegasus as pg\n",
    "import matplotlib.pyplot as plt\n",
    "import seaborn as sns\n",
    "import plotly.express as px"
   ]
  },
  {
   "cell_type": "code",
   "execution_count": null,
   "id": "6ca718b5",
   "metadata": {},
   "outputs": [],
   "source": [
    "# read in data\n",
    "runsheet = pd.read_csv(snakemake.config[\"runsheet\"], sep=\"\\t\")\n",
    "\n",
    "d = {\"Sample\": [], \"Location\": [], \"Modality\": []}\n",
    "for r in runsheet[\"run_id\"].unique():\n",
    "    for m in snakemake.input.keys():\n",
    "        for f in snakemake.input[m]:\n",
    "            if m == \"IRescue\":\n",
    "                n = Path(f).parent.parent.name\n",
    "                mode = \"te\"\n",
    "            else:\n",
    "                n = Path(f).parent.parent.parent.name\n",
    "                mode = \"rna\"\n",
    "\n",
    "            if r == n:\n",
    "                d[\"Sample\"].append(r)\n",
    "                d[\"Location\"].append(f)\n",
    "                d[\"Modality\"].append(mode)\n",
    "\n",
    "data = pg.aggregate_matrices(d, default_ref=\"GRCh38\", mito_prefix=\"MT-\")"
   ]
  },
  {
   "cell_type": "code",
   "execution_count": null,
   "id": "298bb253",
   "metadata": {},
   "outputs": [],
   "source": [
    "# dead cells\n",
    "pg.qc_metrics(\n",
    "    data,\n",
    "    min_genes=snakemake.config[\"preprocess\"][\"min_genes\"],\n",
    "    min_umis=snakemake.config[\"preprocess\"][\"min_counts\"],\n",
    "    percent_mito=snakemake.config[\"preprocess\"][\"max_pct_mt\"],\n",
    ")\n",
    "data.obs[\"log1p_n_genes\"] = np.log1p(data.obs[\"n_genes\"])\n",
    "data.obs[\"log1p_n_counts\"] = np.log1p(data.obs[\"n_counts\"])\n",
    "\n",
    "# doublets\n",
    "pg.infer_doublets(data, channel_attr=\"Channel\", plot_hist=None)\n",
    "pg.mark_doublets(data)"
   ]
  },
  {
   "cell_type": "code",
   "execution_count": null,
   "id": "a70a844b",
   "metadata": {},
   "outputs": [],
   "source": [
    "def qc_plot(df):\n",
    "    \"\"\"Plot QC metrics for filtering\"\"\"\n",
    "\n",
    "    for n, c in zip(\n",
    "        [\"log1p_n_counts\", \"log1p_n_genes\", \"percent_mito\", \"doublet_score\"],\n",
    "        [\"min_counts\", \"min_genes\", \"max_pct_mt\", \"\"],\n",
    "    ):\n",
    "        assert n in df.columns, f\"{n} not found in df.columns\"\n",
    "\n",
    "        plt.clf()\n",
    "        fig = sns.violinplot(\n",
    "            df, x=\"Channel\", y=n, hue=\"passed_qc\", dodge=True, inner=\"point\"\n",
    "        )\n",
    "        if n in [\"log1p_n_counts\", \"log1p_n_genes\"]:\n",
    "            fig.axhline(\n",
    "                np.log1p(snakemake.config[\"preprocess\"][c]),\n",
    "                linestyle=\"dashed\",\n",
    "                color=\"red\",\n",
    "            )\n",
    "        elif n == \"percent_mito\":\n",
    "            fig.axhline(\n",
    "                snakemake.config[\"preprocess\"][c],\n",
    "                linestyle=\"dashed\",\n",
    "                color=\"red\",\n",
    "            )\n",
    "        sns.despine()\n",
    "        plt.show()\n",
    "\n",
    "    for n in [\"percent_mito\", \"doublet_score\", \"passed_qc\"]:\n",
    "        plt.clf()\n",
    "        fig = px.scatter(\n",
    "            df,\n",
    "            x=\"n_counts\",\n",
    "            y=\"n_genes\",\n",
    "            color=n,\n",
    "            facet_col=\"Channel\",\n",
    "            log_x=True,\n",
    "            log_y=True,\n",
    "            alpha=0.5,\n",
    "        )\n",
    "        fig.add_hline(\n",
    "            snakemake.config[\"preprocess\"][\"min_genes\"],\n",
    "            line_dash=\"dash\",\n",
    "            line_color=\"red\",\n",
    "        )\n",
    "        fig.add_vline(\n",
    "            snakemake.config[\"preprocess\"][\"min_counts\"],\n",
    "            line_dash=\"dash\",\n",
    "            line_color=\"red\",\n",
    "        )\n",
    "        fig.show()\n",
    "\n",
    "\n",
    "qc_plot(data.obs)"
   ]
  },
  {
   "cell_type": "code",
   "execution_count": null,
   "id": "616946f6",
   "metadata": {},
   "outputs": [],
   "source": [
    "pg.qc_metrics(\n",
    "    data,\n",
    "    select_singlets=True,\n",
    "    min_genes=snakemake.config[\"preprocess\"][\"min_genes\"],\n",
    "    min_umis=snakemake.config[\"preprocess\"][\"min_counts\"],\n",
    "    percent_mito=snakemake.config[\"preprocess\"][\"max_pct_mt\"],\n",
    ")\n",
    "pg.filter_data(data)"
   ]
  },
  {
   "cell_type": "code",
   "execution_count": null,
   "id": "a28bd435",
   "metadata": {},
   "outputs": [],
   "source": [
    "pg.write_output(data, snakemake.output[0])"
   ]
  }
 ],
 "metadata": {
  "kernelspec": {
   "display_name": "Python 3",
   "language": "python",
   "name": "python3"
  },
  "language_info": {
   "codemirror_mode": {
    "name": "ipython",
    "version": 3
   },
   "file_extension": ".py",
   "mimetype": "text/x-python",
   "name": "python",
   "nbconvert_exporter": "python",
   "pygments_lexer": "ipython3",
   "version": "3.9.16"
  },
  "orig_nbformat": 4,
  "vscode": {
   "interpreter": {
    "hash": "31f2aee4e71d21fbe5cf8b01ff0e069b9275f58929596ceb00d14d90e3e16cd6"
   }
  }
 },
 "nbformat": 4,
 "nbformat_minor": 5
}
