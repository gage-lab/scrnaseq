{
 "cells": [
  {
   "attachments": {},
   "cell_type": "markdown",
   "id": "00ae2af5",
   "metadata": {},
   "source": [
    "# Remove empty droplets, lowly expressed genes, and low quality + dead cells; Mark multiplets"
   ]
  },
  {
   "attachments": {},
   "cell_type": "markdown",
   "id": "d65324ea",
   "metadata": {},
   "source": [
    "## Load data"
   ]
  },
  {
   "cell_type": "code",
   "execution_count": null,
   "id": "097f77d4",
   "metadata": {},
   "outputs": [],
   "source": [
    "from pathlib import Path\n",
    "from mudata import MuData\n",
    "import scanpy as sc\n",
    "import scanpy.external as sce\n",
    "\n",
    "# load data from snakemake inputs\n",
    "if \"CellBender\" in snakemake.input.keys():\n",
    "    adata_gene = sc.read_10x_h5(snakemake.input[\"CellBender\"], var_names=\"gene_symbols\")\n",
    "elif \"STARsolo\" in snakemake.input.keys():\n",
    "    adata_gene = sc.read_10x_mtx(\n",
    "        Path(snakemake.input[\"STARsolo\"]).parent, var_names=\"gene_symbols\"\n",
    "    )\n",
    "\n",
    "# load TE counts if available\n",
    "if \"IRescue\" in snakemake.input.keys():\n",
    "    adata_te = sc.read_10x_mtx(Path(snakemake.input[\"IRescue\"][0]).parent)\n",
    "    adata_te.var.columns = [\"te_symbols\", \"feature_types\"]\n",
    "    mdata = MuData({\"gene\": adata_gene, \"te\": adata_te})\n",
    "    mdata[\"te\"].var_names_make_unique()\n",
    "else:\n",
    "    mdata = MuData({\"gene\": adata_gene})\n",
    "\n",
    "mdata[\"gene\"].var_names_make_unique()"
   ]
  },
  {
   "attachments": {},
   "cell_type": "markdown",
   "id": "0323a20e",
   "metadata": {},
   "source": [
    "## Define plotting function"
   ]
  },
  {
   "cell_type": "code",
   "execution_count": 2,
   "id": "e3fab896",
   "metadata": {},
   "outputs": [],
   "source": [
    "def qc_plot(adata, min_genes, max_pct_mt, min_counts, kind=\"gene\", **kwargs):\n",
    "    \"\"\"Plot QC metrics for filtering\"\"\"\n",
    "    import seaborn as sns\n",
    "    import matplotlib.pyplot as plt\n",
    "\n",
    "    assert kind in [\"gene\", \"te\"], \"kind must be gene or te\"\n",
    "    assert (\n",
    "        \"total_counts\" in adata.obs.columns\n",
    "    ), \"total_counts not found in adata.obs.columns\"\n",
    "\n",
    "    # start subplot\n",
    "    if kind == \"gene\":\n",
    "        _, (ax1, ax2, ax3, ax4, ax5) = plt.subplots(\n",
    "            1, 5, figsize=(12, 3), width_ratios=[0.3, 0.3, 0.3, 1, 1]\n",
    "        )\n",
    "\n",
    "        sns.violinplot(y=adata.obs[\"n_genes_by_counts\"], ax=ax1, inner=None)\n",
    "        f = sns.stripplot(\n",
    "            y=adata.obs[\"n_genes_by_counts\"], ax=ax1, color=\"black\", alpha=0.5, size=2\n",
    "        )\n",
    "        f.axhline(\n",
    "            min_genes,\n",
    "            linestyle=\"dashed\",\n",
    "            color=\"blue\",\n",
    "        )\n",
    "\n",
    "        sns.violinplot(y=adata.obs[\"pct_counts_mt\"], ax=ax3, inner=None)\n",
    "        f = sns.stripplot(\n",
    "            y=adata.obs[\"pct_counts_mt\"], ax=ax3, color=\"black\", alpha=0.5, size=2\n",
    "        )\n",
    "        f.axhline(\n",
    "            max_pct_mt,\n",
    "            linestyle=\"dashed\",\n",
    "            color=\"red\",\n",
    "        )\n",
    "\n",
    "        f = sc.pl.scatter(\n",
    "            adata, x=\"total_counts\", y=\"pct_counts_mt\", show=False, ax=ax4\n",
    "        )\n",
    "        f.axhline(\n",
    "            max_pct_mt,\n",
    "            linestyle=\"dashed\",\n",
    "            color=\"red\",\n",
    "        )\n",
    "        f.axvline(\n",
    "            min_counts,\n",
    "            linestyle=\"dashed\",\n",
    "            color=\"blue\",\n",
    "        )\n",
    "\n",
    "        f = sc.pl.scatter(\n",
    "            adata, x=\"total_counts\", y=\"n_genes_by_counts\", show=False, ax=ax5\n",
    "        )\n",
    "        f.axhline(\n",
    "            min_genes,\n",
    "            linestyle=\"dashed\",\n",
    "            color=\"blue\",\n",
    "        )\n",
    "        f.axvline(\n",
    "            min_counts,\n",
    "            linestyle=\"dashed\",\n",
    "            color=\"blue\",\n",
    "        )\n",
    "\n",
    "    elif kind == \"te\":\n",
    "        _, (ax1, ax2, ax3) = plt.subplots(\n",
    "            1, 3, figsize=(8, 3), width_ratios=[0.5, 0.5, 1]\n",
    "        )\n",
    "\n",
    "        sns.violinplot(y=adata.obs[\"n_tes_by_counts\"], ax=ax1, inner=None)\n",
    "        sns.stripplot(\n",
    "            y=adata.obs[\"n_tes_by_counts\"], ax=ax1, color=\"black\", alpha=0.5, size=2\n",
    "        )\n",
    "\n",
    "        f = sc.pl.scatter(\n",
    "            adata, x=\"total_counts\", y=\"n_tes_by_counts\", show=False, ax=ax3\n",
    "        )\n",
    "        f.axvline(\n",
    "            min_counts,\n",
    "            linestyle=\"dashed\",\n",
    "            color=\"blue\",\n",
    "        )\n",
    "\n",
    "    sns.violinplot(y=adata.obs[\"total_counts\"], ax=ax2, inner=None)\n",
    "    f = sns.stripplot(\n",
    "        y=adata.obs[\"total_counts\"], ax=ax2, color=\"black\", alpha=0.5, size=2\n",
    "    )\n",
    "    f.axhline(\n",
    "        min_counts,\n",
    "        linestyle=\"dashed\",\n",
    "        color=\"blue\",\n",
    "    )\n",
    "\n",
    "    plt.subplots_adjust(wspace=0.5)"
   ]
  },
  {
   "attachments": {},
   "cell_type": "markdown",
   "id": "2893c2a9",
   "metadata": {},
   "source": [
    "## 1. Remove empty droplets and lowly expressed genes"
   ]
  },
  {
   "cell_type": "code",
   "execution_count": null,
   "id": "07dbbf5b",
   "metadata": {},
   "outputs": [],
   "source": [
    "stats = open(snakemake.output[\"stats\"], \"w\")\n",
    "\n",
    "# filter empty droplets and lowly expressed genes\n",
    "before = mdata[\"gene\"].n_obs\n",
    "sc.pp.filter_cells(\n",
    "    mdata[\"gene\"], min_genes=snakemake.config[\"preprocess\"][\"empty\"][\"min_genes\"]\n",
    ")\n",
    "after = mdata[\"gene\"].n_obs\n",
    "stats.writelines(f\"Empty droplets removed\\t{before - after}\")\n",
    "\n",
    "before = mdata[\"gene\"].n_vars\n",
    "sc.pp.filter_genes(\n",
    "    mdata[\"gene\"], min_cells=snakemake.config[\"preprocess\"][\"lowexp\"][\"min_cells\"]\n",
    ")\n",
    "after = mdata[\"gene\"].n_vars\n",
    "stats.writelines(f\"Lowly expressed genes removed \\t{before - after}\")\n",
    "\n",
    "# calculate QC metrics\n",
    "mdata[\"gene\"].var[\"mt\"] = mdata[\"gene\"].var_names.str.startswith(\n",
    "    \"MT-\"\n",
    ")  # annotate the group of mitochondrial genes as 'mt'\n",
    "sc.pp.calculate_qc_metrics(\n",
    "    mdata[\"gene\"],\n",
    "    qc_vars=[\"mt\"],\n",
    "    percent_top=None,\n",
    "    log1p=False,\n",
    "    inplace=True,\n",
    "    var_type=\"genes\",\n",
    ")\n",
    "\n",
    "# visualize with thresholds for low quality cells\n",
    "qc_plot(mdata[\"gene\"], **snakemake.config[\"preprocess\"][\"low_quality\"], kind=\"gene\")"
   ]
  },
  {
   "attachments": {},
   "cell_type": "markdown",
   "id": "220ea9e0",
   "metadata": {},
   "source": [
    "### Explore TE expression"
   ]
  },
  {
   "cell_type": "code",
   "execution_count": null,
   "id": "7f867299",
   "metadata": {},
   "outputs": [],
   "source": [
    "if \"IRescue\" in snakemake.input.keys():\n",
    "    before = mdata[\"te\"].n_vars\n",
    "    # filter lowly expressed TEs\n",
    "    sc.pp.filter_genes(\n",
    "        mdata[\"te\"], min_cells=snakemake.config[\"preprocess\"][\"lowexp\"][\"min_cells\"]\n",
    "    )\n",
    "    after = mdata[\"te\"].n_vars\n",
    "    stats.writelines(f\"Lowly expressed TEs removed \\t{before - after}\")\n",
    "\n",
    "    # calculate QC metrics\n",
    "    sc.pp.calculate_qc_metrics(\n",
    "        mdata[\"te\"], percent_top=None, log1p=False, inplace=True, var_type=\"tes\"\n",
    "    )\n",
    "\n",
    "    # visualize with thresholds\n",
    "    qc_plot(mdata[\"te\"], **snakemake.config[\"preprocess\"][\"low_quality\"], kind=\"te\")"
   ]
  },
  {
   "attachments": {},
   "cell_type": "markdown",
   "id": "120affea",
   "metadata": {},
   "source": [
    "# 2. Remove low quality and dead cells"
   ]
  },
  {
   "cell_type": "code",
   "execution_count": null,
   "id": "fc5e8ba6",
   "metadata": {},
   "outputs": [],
   "source": [
    "# # only run if specified in config\n",
    "mdata.update()\n",
    "if snakemake.config[\"preprocess\"][\"low_quality\"][\"activate\"]:\n",
    "    before = mdata[\"gene\"].n_obs\n",
    "    mdata = mdata[\n",
    "        mdata.obs[\"gene:n_genes_by_counts\"]\n",
    "        > snakemake.config[\"preprocess\"][\"low_quality\"][\"min_genes\"],\n",
    "        :,\n",
    "    ].copy()\n",
    "    after = mdata[\"gene\"].n_obs\n",
    "    stats.writelines(f\"Cells below min_genes removed \\t{before - after}\")\n",
    "\n",
    "    before = mdata[\"gene\"].n_obs\n",
    "    mdata = mdata[\n",
    "        mdata.obs[\"gene:total_counts\"]\n",
    "        > snakemake.config[\"preprocess\"][\"low_quality\"][\"min_counts\"],\n",
    "        :,\n",
    "    ].copy()\n",
    "    after = mdata[\"gene\"].n_obs\n",
    "    stats.writelines(f\"Cells below min_counts removed \\t{before - after}\")\n",
    "\n",
    "    before = mdata[\"gene\"].n_obs\n",
    "    mdata = mdata[\n",
    "        mdata.obs[\"gene:pct_counts_mt\"]\n",
    "        < snakemake.config[\"preprocess\"][\"low_quality\"][\"max_pct_mt\"],\n",
    "        :,\n",
    "    ].copy()\n",
    "    after = mdata[\"gene\"].n_obs\n",
    "    stats.writelines(f\"Cells above max_pct_mt removed \\t{before - after}\")\n",
    "\n",
    "    # visualize again\n",
    "    qc_plot(mdata[\"gene\"], **snakemake.config[\"preprocess\"][\"low_quality\"], kind=\"gene\")\n",
    "\n",
    "    if \"IRescue\" in snakemake.input.keys():\n",
    "        qc_plot(mdata[\"te\"], **snakemake.config[\"preprocess\"][\"low_quality\"], kind=\"te\")"
   ]
  },
  {
   "attachments": {},
   "cell_type": "markdown",
   "id": "389e3d26",
   "metadata": {},
   "source": [
    "## 3. Mark multiplets"
   ]
  },
  {
   "cell_type": "code",
   "execution_count": null,
   "id": "64469ec2",
   "metadata": {},
   "outputs": [],
   "source": [
    "# handle test data\n",
    "nPCs = 3 if min(mdata[\"gene\"].shape) < 100 else 30\n",
    "\n",
    "# run scrublet\n",
    "sce.pp.scrublet(\n",
    "    mdata[\"gene\"],\n",
    "    expected_doublet_rate=snakemake.params.expected_multiplet_rate,\n",
    "    n_prin_comps=nPCs,\n",
    ")\n",
    "\n",
    "# visualize results\n",
    "sce.pl.scrublet_score_distribution(mdata[\"gene\"], save=False)"
   ]
  },
  {
   "attachments": {},
   "cell_type": "markdown",
   "id": "0bc6126e",
   "metadata": {},
   "source": [
    "## Save output"
   ]
  },
  {
   "cell_type": "code",
   "execution_count": null,
   "id": "cd9525fd",
   "metadata": {},
   "outputs": [],
   "source": [
    "mdata.update()\n",
    "assert \"h5mu\" in snakemake.output[0], \"Output file must be an h5mu file\"\n",
    "\n",
    "mdata.write(snakemake.output[0])\n",
    "stats.close()"
   ]
  }
 ],
 "metadata": {
  "kernelspec": {
   "display_name": "Python 3",
   "language": "python",
   "name": "python3"
  },
  "language_info": {
   "codemirror_mode": {
    "name": "ipython",
    "version": 3
   },
   "file_extension": ".py",
   "mimetype": "text/x-python",
   "name": "python",
   "nbconvert_exporter": "python",
   "pygments_lexer": "ipython3",
   "version": "3.6.8"
  },
  "orig_nbformat": 4,
  "vscode": {
   "interpreter": {
    "hash": "31f2aee4e71d21fbe5cf8b01ff0e069b9275f58929596ceb00d14d90e3e16cd6"
   }
  }
 },
 "nbformat": 4,
 "nbformat_minor": 5
}
