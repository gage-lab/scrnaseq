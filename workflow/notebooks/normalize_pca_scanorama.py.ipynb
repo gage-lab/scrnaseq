{
 "cells": [
  {
   "cell_type": "code",
   "execution_count": null,
   "id": "163531e2",
   "metadata": {},
   "outputs": [],
   "source": [
    "from pathlib import Path\n",
    "import mudata\n",
    "import scanpy as sc\n",
    "import scanpy.external as sce\n",
    "import anndata as ad"
   ]
  },
  {
   "attachments": {},
   "cell_type": "markdown",
   "id": "ae8e4e69",
   "metadata": {},
   "source": [
    "Read and merge datasets"
   ]
  },
  {
   "cell_type": "code",
   "execution_count": null,
   "id": "9635a89d",
   "metadata": {},
   "outputs": [],
   "source": [
    "runs = {}\n",
    "for f in snakemake.input:\n",
    "    name = Path(f).parent.parent.name\n",
    "    runs[name] = mudata.read(f)[\"gene\"]\n",
    "\n",
    "adata = ad.concat(runs, join=\"inner\", label=\"run\")"
   ]
  },
  {
   "attachments": {},
   "cell_type": "markdown",
   "id": "19a9a9b9",
   "metadata": {},
   "source": [
    "Normalize"
   ]
  },
  {
   "cell_type": "code",
   "execution_count": null,
   "id": "70c89225",
   "metadata": {},
   "outputs": [],
   "source": [
    "sc.pp.normalize_total(adata, target_sum=1e4)\n",
    "sc.pp.log1p(adata)\n",
    "sc.pp.highly_variable_genes(adata, n_top_genes=2000)\n",
    "sc.pp.regress_out(adata, [\"total_counts\", \"pct_counts_mt\"])"
   ]
  },
  {
   "attachments": {},
   "cell_type": "markdown",
   "id": "f4ea7cbb",
   "metadata": {},
   "source": [
    "PCA"
   ]
  },
  {
   "cell_type": "code",
   "execution_count": null,
   "id": "0f08622a",
   "metadata": {},
   "outputs": [],
   "source": [
    "sc.tl.pca(adata)"
   ]
  },
  {
   "attachments": {},
   "cell_type": "markdown",
   "id": "4e4a616e",
   "metadata": {},
   "source": [
    "Integrate"
   ]
  },
  {
   "cell_type": "code",
   "execution_count": null,
   "id": "1dc2fd0e",
   "metadata": {},
   "outputs": [],
   "source": [
    "sce.pp.scanorama_integrate(adata, key=\"run\")"
   ]
  },
  {
   "attachments": {},
   "cell_type": "markdown",
   "id": "e8235914",
   "metadata": {},
   "source": [
    "Save"
   ]
  },
  {
   "cell_type": "code",
   "execution_count": null,
   "id": "6f992d2d",
   "metadata": {},
   "outputs": [],
   "source": [
    "adata.write_h5ad(snakemake.output[0], compression=\"gzip\")"
   ]
  }
 ],
 "metadata": {
  "kernelspec": {
   "display_name": "Python 3",
   "language": "python",
   "name": "python3"
  },
  "language_info": {
   "name": "python",
   "version": "3.10.9"
  },
  "orig_nbformat": 4,
  "vscode": {
   "interpreter": {
    "hash": "916dbcbb3f70747c44a77c7bcd40155683ae19c65e1c03b4aa3499c5328201f1"
   }
  }
 },
 "nbformat": 4,
 "nbformat_minor": 5
}
