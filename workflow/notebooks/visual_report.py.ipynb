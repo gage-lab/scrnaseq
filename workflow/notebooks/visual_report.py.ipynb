{
 "cells": [
  {
   "cell_type": "code",
   "execution_count": null,
   "metadata": {},
   "outputs": [],
   "source": [
    "from pathlib import Path\n",
    "import numpy as np\n",
    "import pandas as pd\n",
    "import seaborn as sns\n",
    "import scanpy as sc\n",
    "import matplotlib.pyplot as plt"
   ]
  },
  {
   "cell_type": "code",
   "execution_count": null,
   "id": "810e9c6c",
   "metadata": {},
   "outputs": [],
   "source": [
    "sequencing = pd.DataFrame()\n",
    "mapping = pd.DataFrame()\n",
    "cells = pd.DataFrame()\n",
    "df_all = pd.DataFrame()\n",
    "for i in snakemake.input:\n",
    "    df = pd.read_csv(i, header=None, names=[\"Metric\", \"Values\"])\n",
    "    path = Path(i)\n",
    "    name = path.parent.parent.stem\n",
    "    # df = df.set_index(\"Metric\")\n",
    "    df[\"run\"] = [name] * df.shape[0]\n",
    "\n",
    "    # table with sequencing metrics\n",
    "    sequencing = pd.concat([sequencing, df[:5]], ignore_index=True)\n",
    "    # table with mapping metrics\n",
    "    mapping = pd.concat([mapping, df[5:12].drop([9])], ignore_index=True)\n",
    "    # table with cells metrics\n",
    "    cells = pd.concat([cells, df[9:].drop([10, 11])], ignore_index=True)"
   ]
  },
  {
   "cell_type": "code",
   "execution_count": null,
   "id": "8dc205c1",
   "metadata": {},
   "outputs": [],
   "source": [
    "# create the facet grid barplot\n",
    "ax = sns.catplot(\n",
    "    data=sequencing,\n",
    "    y=\"run\",\n",
    "    x=\"Values\",\n",
    "    col=\"Metric\",\n",
    "    kind=\"bar\",\n",
    "    palette=\"pastel\",\n",
    "    sharex=False,\n",
    "    col_wrap=3,\n",
    "    margin_titles=True,\n",
    ")\n",
    "ax.fig.subplots_adjust(top=0.9)\n",
    "ax.set_titles(row_template=\"{row_name}\", col_template=\"{col_name}\")\n",
    "ax.fig.suptitle(\"Sequencing Metrics Across Runs\");"
   ]
  },
  {
   "cell_type": "code",
   "execution_count": null,
   "id": "110cbe9f",
   "metadata": {},
   "outputs": [],
   "source": [
    "# create the facet grid barplot\n",
    "plt.clf()\n",
    "ax = sns.catplot(\n",
    "    data=mapping,\n",
    "    y=\"run\",\n",
    "    x=\"Values\",\n",
    "    col=\"Metric\",\n",
    "    kind=\"bar\",\n",
    "    palette=\"husl\",\n",
    "    sharex=False,\n",
    "    col_wrap=3,\n",
    "    margin_titles=True,\n",
    ")\n",
    "ax.fig.subplots_adjust(top=0.9)\n",
    "ax.set_titles(row_template=\"{row_name}\", col_template=\"{col_name}\")\n",
    "ax.fig.suptitle(\"Mapping Metrics Across Runs\");"
   ]
  },
  {
   "cell_type": "code",
   "execution_count": null,
   "id": "a922247c",
   "metadata": {},
   "outputs": [],
   "source": [
    "# create the facet grid barplot\n",
    "plt.clf()\n",
    "ax = sns.catplot(\n",
    "    data=cells,\n",
    "    y=\"run\",\n",
    "    x=\"Values\",\n",
    "    col=\"Metric\",\n",
    "    kind=\"bar\",\n",
    "    palette=\"Set2\",\n",
    "    sharex=False,\n",
    "    col_wrap=3,\n",
    "    margin_titles=True,\n",
    ")\n",
    "ax.fig.subplots_adjust(top=0.9)\n",
    "ax.set_titles(row_template=\"{row_name}\", col_template=\"{col_name}\")\n",
    "ax.fig.suptitle(\"Cell Metrics Across Runs\");"
   ]
  }
 ],
 "metadata": {
  "kernelspec": {
   "display_name": "Python 3",
   "language": "python",
   "name": "python3"
  },
  "language_info": {
   "name": "python",
   "version": "3.-1.-1"
  },
  "orig_nbformat": 4,
  "vscode": {
   "interpreter": {
    "hash": "31f2aee4e71d21fbe5cf8b01ff0e069b9275f58929596ceb00d14d90e3e16cd6"
   }
  }
 },
 "nbformat": 4,
 "nbformat_minor": 5
}
