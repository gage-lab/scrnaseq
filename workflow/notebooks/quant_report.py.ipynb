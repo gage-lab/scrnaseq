{
 "cells": [
  {
   "cell_type": "code",
   "execution_count": null,
   "metadata": {},
   "outputs": [],
   "source": [
    "from pathlib import Path\n",
    "import numpy as np\n",
    "import pandas as pd\n",
    "import seaborn as sns\n",
    "import scanpy as sc\n",
    "import matplotlib.pyplot as plt"
   ]
  },
  {
   "cell_type": "code",
   "execution_count": null,
   "id": "fb71bb52",
   "metadata": {},
   "outputs": [],
   "source": [
    "rank_plot_data = list()\n",
    "STARsolo_summary_data = list()\n",
    "IRescue_directories = list()\n",
    "for i in snakemake.input:\n",
    "    if Path(i).name == \"Summary.csv\":\n",
    "        STARsolo_summary_data.append(i)\n",
    "    elif Path(i).name == \"matrix.mtx\":\n",
    "        rank_plot_data.append(i)\n",
    "    elif Path(i).name == \"IRescue\":\n",
    "        IRescue_directories.append(i)"
   ]
  },
  {
   "cell_type": "code",
   "execution_count": null,
   "id": "92876fd6",
   "metadata": {},
   "outputs": [],
   "source": [
    "filtered_barcodes = dict()\n",
    "for i in rank_plot_data:\n",
    "    # load data\n",
    "    dir_10x = Path(i).parent\n",
    "    adata = sc.read_10x_mtx(dir_10x, var_names=\"gene_symbols\")\n",
    "    name = dir_10x.parent.parent.stem + \"_\" + dir_10x.parent.stem + \"_\" + dir_10x.name\n",
    "    print(f\"plotting {name}...\")\n",
    "\n",
    "    # compute rankings\n",
    "    plot_df = pd.DataFrame({\"total_counts\": np.sum(adata.X, axis=0).tolist()[0]})\n",
    "    plot_df = plot_df.sort_values(by=\"total_counts\", ascending=False)\n",
    "    plot_df[\"total_counts\"] = plot_df.loc[plot_df[\"total_counts\"] > 0, :]\n",
    "    plot_df[\"rank\"] = range(1, plot_df.shape[0] + 1)\n",
    "    adata_df = adata.to_df()\n",
    "    filtered_barcodes[name] = adata_df[adata_df.sum(axis=1) <= 0].index.tolist()\n",
    "\n",
    "    # plot\n",
    "    plt.clf()\n",
    "    fig = sns.lineplot(data=plot_df, x=\"rank\", y=\"total_counts\")\n",
    "    fig.set(\n",
    "        xscale=\"log\", yscale=\"log\", title=name, xlabel=\"Rank\", ylabel=\"Total counts\"\n",
    "    )\n",
    "    plt.show()"
   ]
  },
  {
   "cell_type": "code",
   "execution_count": null,
   "id": "6a06bfd2",
   "metadata": {},
   "outputs": [],
   "source": [
    "for i in STARsolo_summary_data:\n",
    "    # Load data and set variables\n",
    "    df = pd.read_csv(i, header=None)\n",
    "    path = Path(i)\n",
    "    name = path.parent.parent.stem + \"_\" + path.parent.stem + \"_\" + path.name\n",
    "    reads = df.loc[0][1]\n",
    "    mappedReads = df.loc[10][1]\n",
    "    UMIs = df.loc[14][1]\n",
    "    print(f\"plotting {name}...\")\n",
    "    print(f\".....{reads} number of reads........\")\n",
    "    print(f\".....{mappedReads} number of unique mapped reads.....\")\n",
    "    print(f\".....{UMIs} number of UMIs in Cells.....\")\n",
    "\n",
    "    # plot info for all reads\n",
    "    sns.barplot(df[1:9], x=1, y=0, palette=\"Paired\")\n",
    "    plt.title(name + \": \" + str(reads) + \" Reads\")\n",
    "    plt.xlabel(\"Rate\")\n",
    "    plt.ylabel(\"\")\n",
    "    plt.show()\n",
    "    plt.clf()\n",
    "\n",
    "    # plot info for reads mapped to genes (two figures)\n",
    "    fig, axs = plt.subplots(ncols=2, figsize=(10, 5))\n",
    "    axs[0] = sns.barplot(\n",
    "        df[9:14].drop([10]).drop([11]), x=1, y=0, palette=\"Paired\", ax=axs[0]\n",
    "    )\n",
    "    axs[1] = sns.barplot(df[11:12], x=0, y=1, palette=\"Paired\", ax=axs[1])\n",
    "\n",
    "    axs[0].set_title(\n",
    "        name + \": \" + str(mappedReads) + \" Unique Reads in Cells Mapped to Gene\"\n",
    "    )\n",
    "    axs[0].set_xlabel(\"\")\n",
    "    axs[0].set_ylabel(\"\")\n",
    "    axs[1].set_xlabel(\"\")\n",
    "    axs[1].set_ylabel(\"\")\n",
    "\n",
    "    plt.show()\n",
    "    plt.clf()\n",
    "\n",
    "    # plot info for genes and UMI per cell\n",
    "    sns.barplot(df[15:], x=1, y=0, palette=\"Paired\")\n",
    "    plt.title(name + \": \" + str(UMIs) + \" UMIs in Cells\")\n",
    "    plt.xlabel(\"\")\n",
    "    plt.ylabel(\"\")\n",
    "    plt.show()\n",
    "    plt.clf();"
   ]
  },
  {
   "cell_type": "code",
   "execution_count": null,
   "id": "c17d61b6",
   "metadata": {},
   "outputs": [],
   "source": [
    "for i in IRescue_directories:\n",
    "    # load data\n",
    "    dir_10x = Path(i)\n",
    "    adata = sc.read_10x_mtx(dir_10x, var_names=\"gene_symbols\")\n",
    "    name = dir_10x.parent.parent.stem + \"_\" + dir_10x.parent.stem + \"_\" + dir_10x.name\n",
    "    print(f\"plotting {name}...\")\n",
    "\n",
    "    # compute rankings\n",
    "    plot_df = pd.DataFrame({\"total_counts\": np.sum(adata.X, axis=0).tolist()[0]})\n",
    "    plot_df = plot_df.sort_values(by=\"total_counts\", ascending=False)\n",
    "    # plot_df[\"total_counts\"] = plot_df.loc[plot_df[\"total_counts\"] > 0, :]\n",
    "    plot_df[\"rank\"] = range(1, plot_df.shape[0] + 1)\n",
    "\n",
    "    # plot\n",
    "    plt.clf()\n",
    "    fig = sns.lineplot(data=plot_df, x=\"rank\", y=\"total_counts\")\n",
    "    fig.set(\n",
    "        xscale=\"log\", yscale=\"log\", title=name, xlabel=\"Rank\", ylabel=\"Total counts\"\n",
    "    )\n",
    "    plt.show()"
   ]
  }
 ],
 "metadata": {
  "kernelspec": {
   "display_name": "Python 3",
   "language": "python",
   "name": "python3"
  },
  "language_info": {
   "name": "python",
   "version": "3.6.8"
  },
  "orig_nbformat": 4,
  "vscode": {
   "interpreter": {
    "hash": "31f2aee4e71d21fbe5cf8b01ff0e069b9275f58929596ceb00d14d90e3e16cd6"
   }
  }
 },
 "nbformat": 4,
 "nbformat_minor": 5
}
