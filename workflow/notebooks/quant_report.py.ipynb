{
 "cells": [
  {
   "cell_type": "code",
   "execution_count": null,
   "metadata": {},
   "outputs": [],
   "source": [
    "from pathlib import Path\n",
    "import numpy as np\n",
    "import pandas as pd\n",
    "import seaborn as sns\n",
    "import scanpy as sc\n",
    "import matplotlib.pyplot as plt"
   ]
  },
  {
   "cell_type": "code",
   "execution_count": null,
   "id": "92876fd6",
   "metadata": {},
   "outputs": [],
   "source": [
    "for i in snakemake.input:\n",
    "    # load data\n",
    "    dir_10x = Path(i).parent\n",
    "    adata = sc.read_10x_mtx(dir_10x, var_names=\"gene_symbols\")\n",
    "    name = dir_10x.parent.parent.stem + \"_\" + dir_10x.parent.stem + \"_\" + dir_10x.name\n",
    "    print(f\"plotting {name}...\")\n",
    "\n",
    "    # compute rankings\n",
    "    plot_df = pd.DataFrame({\"total_counts\": np.sum(adata.X, axis=0).tolist()[0]})\n",
    "    plot_df = plot_df.sort_values(by=\"total_counts\", ascending=False)\n",
    "    plot_df[\"total_counts\"] = plot_df.loc[plot_df[\"total_counts\"] > 0, :]\n",
    "    plot_df[\"rank\"] = range(1, plot_df.shape[0] + 1)\n",
    "\n",
    "    # plot\n",
    "    plt.clf()\n",
    "    fig = sns.lineplot(data=plot_df, x=\"rank\", y=\"total_counts\")\n",
    "    fig.set(\n",
    "        xscale=\"log\", yscale=\"log\", title=name, xlabel=\"Rank\", ylabel=\"Total counts\"\n",
    "    )\n",
    "    plt.show()"
   ]
  }
 ],
 "metadata": {
  "kernelspec": {
   "display_name": "Python 3",
   "language": "python",
   "name": "python3"
  },
  "language_info": {
   "name": "python",
   "version": "3.6.8"
  },
  "orig_nbformat": 4,
  "vscode": {
   "interpreter": {
    "hash": "31f2aee4e71d21fbe5cf8b01ff0e069b9275f58929596ceb00d14d90e3e16cd6"
   }
  }
 },
 "nbformat": 4,
 "nbformat_minor": 5
}
