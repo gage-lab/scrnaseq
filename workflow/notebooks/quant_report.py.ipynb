{
 "cells": [
  {
   "cell_type": "code",
   "execution_count": 1,
   "metadata": {},
   "outputs": [],
   "source": [
    "from pathlib import Path\n",
    "import numpy as np\n",
    "import pandas as pd\n",
    "import seaborn as sns\n",
    "import scanpy as sc\n",
    "import matplotlib.pyplot as plt"
   ]
  },
  {
   "cell_type": "code",
   "execution_count": null,
   "id": "5d37b017",
   "metadata": {},
   "outputs": [],
   "source": [
    "raw = snakemake.input[\"STARsoloRaw\"]\n",
    "filtered = snakemake.input[\"STARsoloFiltered\"]\n",
    "\n",
    "# load data\n",
    "dir_10x_raw = Path(raw).parent\n",
    "adataRaw = sc.read_10x_mtx(dir_10x_raw, var_names=\"gene_symbols\")\n",
    "dir_10x_filtered = Path(filtered).parent\n",
    "adataFilter = sc.read_10x_mtx(dir_10x_filtered, var_names=\"gene_symbols\")\n",
    "name = dir_10x_raw.parent.parent.stem + \"_\" + dir_10x_raw.parent.stem\n",
    "\n",
    "# do some computations\n",
    "sc.pp.calculate_qc_metrics(adataRaw, percent_top=None, log1p=False, inplace=True)\n",
    "\n",
    "# organize\n",
    "df = adataRaw.obs.drop([\"n_genes_by_counts\"], axis=1)\n",
    "del adataRaw\n",
    "df = df.loc[df[\"total_counts\"] > 0, :]\n",
    "df[\"isEmpty\"] = ~df.index.isin(adataFilter.obs.index)\n",
    "del adataFilter\n",
    "df = df.sort_values(by=\"total_counts\", ascending=False)\n",
    "df[\"rank\"] = range(1, df.shape[0] + 1)\n",
    "\n",
    "# plot\n",
    "plt.clf()\n",
    "fig = sns.lineplot(\n",
    "    data=df, x=\"rank\", y=\"total_counts\", hue=\"isEmpty\", palette=\"blend:#7AB,#EDA\"\n",
    ")\n",
    "fig.set(xscale=\"log\", yscale=\"log\", title=name, xlabel=\"Rank\", ylabel=\"Total counts\")\n",
    "sns.despine()\n",
    "plt.show()"
   ]
  },
  {
   "cell_type": "code",
   "execution_count": null,
   "id": "5f044ef3",
   "metadata": {},
   "outputs": [],
   "source": [
    "i = snakemake.input[\"STARsoloSummaries\"]\n",
    "# Load data, instantiate dataframe\n",
    "df = pd.read_csv(i, header=None, names=[\"Metric\", \"Values\"])\n",
    "path = Path(i)\n",
    "name = path.parent.parent.stem + \"_\" + path.parent.stem + \"_\" + path.name\n",
    "df = df.set_index(\"Metric\")"
   ]
  },
  {
   "cell_type": "code",
   "execution_count": null,
   "id": "8f1baedc",
   "metadata": {},
   "outputs": [],
   "source": [
    "# output table with sequencing metrics\n",
    "sequencing = df[0:5].transpose()\n",
    "sequencing[\"Number of Reads\"] = sequencing[\"Number of Reads\"].astype(int)\n",
    "print(f\"summarizing sequencing metrics...\")\n",
    "sequencing"
   ]
  },
  {
   "cell_type": "code",
   "execution_count": null,
   "id": "e6a86589",
   "metadata": {},
   "outputs": [],
   "source": [
    "# output table with mapping metrics\n",
    "mapping = pd.concat([df[0:1], df[5:12]]).drop([\"Estimated Number of Cells\"]).transpose()\n",
    "if \"Full\" in name:\n",
    "    mapping[\"Unique Reads in Cells Mapped to GeneFull\"] = mapping[\n",
    "        \"Unique Reads in Cells Mapped to GeneFull\"\n",
    "    ].astype(int)\n",
    "else:\n",
    "    mapping[\"Unique Reads in Cells Mapped to Gene\"] = mapping[\n",
    "        \"Unique Reads in Cells Mapped to Gene\"\n",
    "    ].astype(int)\n",
    "mapping[\"Number of Reads\"] = mapping[\"Number of Reads\"].astype(int)\n",
    "print(f\"summarizing mapping metrics...\")\n",
    "mapping"
   ]
  },
  {
   "cell_type": "code",
   "execution_count": null,
   "id": "0a79bfb7",
   "metadata": {},
   "outputs": [],
   "source": [
    "# output table with cells metrics\n",
    "if \"Full\" in name:\n",
    "    cells = (\n",
    "        df[9:]\n",
    "        .drop([\"Fraction of Unique Reads in Cells\"])\n",
    "        .drop([\"Unique Reads in Cells Mapped to GeneFull\"])\n",
    "        .transpose()\n",
    "        .astype(int)\n",
    "    )\n",
    "else:\n",
    "    cells = (\n",
    "        df[9:]\n",
    "        .drop([\"Fraction of Unique Reads in Cells\"])\n",
    "        .drop([\"Unique Reads in Cells Mapped to Gene\"])\n",
    "        .transpose()\n",
    "        .astype(int)\n",
    "    )\n",
    "print(f\"summarizing cells metrics...\")\n",
    "cells"
   ]
  }
 ],
 "metadata": {
  "kernelspec": {
   "display_name": "Python 3",
   "language": "python",
   "name": "python3"
  },
  "language_info": {
   "codemirror_mode": {
    "name": "ipython",
    "version": 3
   },
   "file_extension": ".py",
   "mimetype": "text/x-python",
   "name": "python",
   "nbconvert_exporter": "python",
   "pygments_lexer": "ipython3",
   "version": "3.10.9"
  },
  "orig_nbformat": 4,
  "vscode": {
   "interpreter": {
    "hash": "14e57215fdc955364b4180a8007a64384534d69f75ef7cd530db5bcc7d851508"
   }
  }
 },
 "nbformat": 4,
 "nbformat_minor": 5
}
