{
 "cells": [
  {
   "cell_type": "code",
   "execution_count": null,
   "id": "163531e2",
   "metadata": {},
   "outputs": [],
   "source": [
    "import pegasus as pg"
   ]
  },
  {
   "cell_type": "code",
   "execution_count": null,
   "id": "9635a89d",
   "metadata": {},
   "outputs": [],
   "source": [
    "# read in the data\n",
    "data = pg.read_input(snakemake.input[0])\n",
    "\n",
    "# remove lowly expressed genes\n",
    "pg.identify_robust_genes(data, percent_cells=0.05)\n",
    "\n",
    "# normalize\n",
    "pg.log_norm(data)\n",
    "\n",
    "# select HVGs\n",
    "pg.highly_variable_features(data)\n",
    "pg.hvfplot(data, dpi=200)\n",
    "\n",
    "# calculate gene module scores\n",
    "for sig in [\"cell_cycle_human\", \"apoptosis_human\",\"gender_human\"]:\n",
    "\tpg.calc_signature_score(data, sig)"
   ]
  },
  {
   "cell_type": "code",
   "execution_count": null,
   "id": "492f8fe8",
   "metadata": {},
   "outputs": [],
   "source": [
    "# PCA\n",
    "sigs = [\"percent_mito\",\"n_counts\", \"G1/S\", \"G2/M\"]\n",
    "\n",
    "pg.pca(data)\n",
    "fig = pg.scatter(data, attrs=['Channel',*sigs], basis='pca', dpi=200, return_fig=True)\n",
    "fig.set(title = \"PCA before regressing out nuisance signals\")\n",
    "\n",
    "pg.regress_out(data, keys=sigs)\n",
    "pg.pca(data)\n",
    "fig = pg.scatter(data, attrs=['Channel',*sigs], basis='pca', dpi=200, return_fig=True)\n",
    "fig.set(title = \"PCA before regressing out nuisance signals\")\n",
    "\n",
    "pg.elbowplot(data, dpi=200)"
   ]
  },
  {
   "cell_type": "code",
   "execution_count": null,
   "id": "5aa6f8fd",
   "metadata": {},
   "outputs": [],
   "source": [
    "# Make KNN graph\n",
    "pg.neighbors(data)\n",
    "\n",
    "# Run UMAP\n",
    "pg.umap(data, n_jobs = snakemake.threads)\n",
    "fig = pg.scatter(data, attrs=['Channel'], basis='umap', return_fig=True, dpi=200)\n",
    "fig.set(title = \"UMAP before batch correction\")\n",
    "\n",
    "# Run scanorama to correct batch effects\n",
    "pg.run_scanorama(data)\n",
    "\n",
    "# Remake KNN graph\n",
    "pg.neighbors(data)\n",
    "\n",
    "# Rerun UMAP\n",
    "pg.umap(data, n_jobs = snakemake.threads)\n",
    "fig = pg.scatter(data, attrs=['Channel'], basis='umap', return_fig=True, dpi=200)\n",
    "fig.set(title = \"UMAP before after correction\")\n",
    "\n",
    "pg.write_output(data, snakemake.output['h5ad'])"
   ]
  }
 ],
 "metadata": {
  "kernelspec": {
   "display_name": "Python 3",
   "language": "python",
   "name": "python3"
  },
  "language_info": {
   "name": "python",
   "version": "3.6.8"
  },
  "orig_nbformat": 4,
  "vscode": {
   "interpreter": {
    "hash": "916dbcbb3f70747c44a77c7bcd40155683ae19c65e1c03b4aa3499c5328201f1"
   }
  }
 },
 "nbformat": 4,
 "nbformat_minor": 5
}
