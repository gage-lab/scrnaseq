{
 "cells": [
  {
   "cell_type": "code",
   "execution_count": null,
   "id": "163531e2",
   "metadata": {},
   "outputs": [],
   "source": [
    "from IPython.display import Markdown as md\n",
    "import pegasus as pg\n",
    "import matplotlib.pyplot as plt\n",
    "import seaborn as sns\n",
    "import pandas as pd"
   ]
  },
  {
   "attachments": {},
   "cell_type": "markdown",
   "id": "9635a89d",
   "metadata": {},
   "source": [
    "## 1. Read in the data"
   ]
  },
  {
   "cell_type": "code",
   "execution_count": null,
   "id": "4dc2c772",
   "metadata": {},
   "outputs": [],
   "source": [
    "data = pg.read_input(snakemake.input[0])"
   ]
  },
  {
   "attachments": {},
   "cell_type": "markdown",
   "id": "916de494",
   "metadata": {},
   "source": [
    "## 2. Remove lowly expressed genes"
   ]
  },
  {
   "cell_type": "code",
   "execution_count": null,
   "id": "3d143815",
   "metadata": {},
   "outputs": [],
   "source": [
    "pg.identify_robust_genes(data, percent_cells=0.05)"
   ]
  },
  {
   "attachments": {},
   "cell_type": "markdown",
   "id": "590ef0c5",
   "metadata": {},
   "source": [
    "## 3. Normalize to counts per 1e5 and log transform"
   ]
  },
  {
   "cell_type": "code",
   "execution_count": null,
   "id": "fdc0c2ca",
   "metadata": {},
   "outputs": [],
   "source": [
    "pg.log_norm(data)"
   ]
  },
  {
   "cell_type": "markdown",
   "id": "ea27110b",
   "metadata": {},
   "source": [
    "## 4. Select highly variable genes"
   ]
  },
  {
   "cell_type": "code",
   "execution_count": null,
   "id": "4e68565c",
   "metadata": {},
   "outputs": [],
   "source": [
    "pg.highly_variable_features(data)\n",
    "pg.hvfplot(data, dpi=100)"
   ]
  },
  {
   "attachments": {},
   "cell_type": "markdown",
   "id": "d206325d",
   "metadata": {},
   "source": [
    "## 5. Run PCA"
   ]
  },
  {
   "cell_type": "code",
   "execution_count": null,
   "id": "c5b8e765",
   "metadata": {},
   "outputs": [],
   "source": [
    "pg.pca(data)\n",
    "pg.elbowplot(data, dpi=100)"
   ]
  },
  {
   "attachments": {},
   "cell_type": "markdown",
   "id": "449faef4",
   "metadata": {},
   "source": [
    "## 6. Run Scanorama to intergrate the data"
   ]
  },
  {
   "cell_type": "code",
   "execution_count": null,
   "id": "a5e9b08e",
   "metadata": {},
   "outputs": [],
   "source": [
    "pg.run_scanorama(data)"
   ]
  },
  {
   "attachments": {},
   "cell_type": "markdown",
   "id": "60d1a6ab",
   "metadata": {},
   "source": [
    "## 7. Investigate Scanorama embedding for nuisance variables"
   ]
  },
  {
   "cell_type": "code",
   "execution_count": null,
   "id": "34333562",
   "metadata": {},
   "outputs": [],
   "source": [
    "# calculate gene module scores if specified\n",
    "if \"signatures\" in snakemake.config[\"preprocess\"].keys():\n",
    "    for sig in snakemake.config[\"preprocess\"][\"signatures\"]:\n",
    "        pg.calc_signature_score(data, sig)\n",
    "\n",
    "regress_vars = snakemake.config[\"preprocess\"][\"regress_out\"]\n",
    "for rep in [\"pca\", \"scanorama\"]:\n",
    "    pg.regress_out(data, attrs=regress_vars, rep=rep)\n",
    "    for r in [rep, f\"{rep}_regressed\"]:\n",
    "        pg.neighbors(data, rep=r, n_jobs=snakemake.threads)\n",
    "        pg.umap(data, rep=r, n_jobs=snakemake.threads, out_basis=f\"umap_{r}\")"
   ]
  },
  {
   "attachments": {},
   "cell_type": "markdown",
   "id": "6cc59432",
   "metadata": {},
   "source": [
    "## 8. Compare the integrated data to the original data"
   ]
  },
  {
   "cell_type": "code",
   "execution_count": null,
   "id": "0c084b31",
   "metadata": {},
   "outputs": [],
   "source": [
    "for i in [\"Channel\", *regress_vars]:\n",
    "    pg.scatter(\n",
    "        data,\n",
    "        attrs=i,\n",
    "        basis=[\"pca\", \"pca_regressed\", \"scanorama\", \"scanorama_regressed\"],\n",
    "        dpi=100,\n",
    "        nrows=1,\n",
    "    )\n",
    "    pg.scatter(\n",
    "        data,\n",
    "        attrs=i,\n",
    "        basis=[\n",
    "            \"umap_pca\",\n",
    "            \"umap_pca_regressed\",\n",
    "            \"umap_scanorama\",\n",
    "            \"umap_scanorama_regressed\",\n",
    "        ],\n",
    "        dpi=100,\n",
    "        nrows=1,\n",
    "    )"
   ]
  },
  {
   "attachments": {},
   "cell_type": "markdown",
   "id": "17aa4db3",
   "metadata": {},
   "source": [
    "## 9. Save the integrated data"
   ]
  },
  {
   "cell_type": "code",
   "execution_count": null,
   "id": "c738b9ec",
   "metadata": {},
   "outputs": [],
   "source": [
    "pg.write_output(data, snakemake.output[\"h5ad\"])"
   ]
  }
 ],
 "metadata": {
  "kernelspec": {
   "display_name": "Python 3",
   "language": "python",
   "name": "python3"
  },
  "language_info": {
   "name": "python",
   "version": "3.6.8"
  },
  "orig_nbformat": 4,
  "vscode": {
   "interpreter": {
    "hash": "916dbcbb3f70747c44a77c7bcd40155683ae19c65e1c03b4aa3499c5328201f1"
   }
  }
 },
 "nbformat": 4,
 "nbformat_minor": 5
}
