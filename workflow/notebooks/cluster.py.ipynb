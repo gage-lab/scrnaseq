{
 "cells": [
  {
   "cell_type": "code",
   "execution_count": null,
   "id": "d634e17f",
   "metadata": {},
   "outputs": [],
   "source": [
    "from IPython.display import Markdown as md\n",
    "import pegasus as pg\n",
    "import matplotlib.pyplot as plt\n",
    "import seaborn as sns\n",
    "import pandas as pd"
   ]
  },
  {
   "cell_type": "code",
   "execution_count": null,
   "id": "e8f1473c",
   "metadata": {},
   "outputs": [],
   "source": [
    "data = pg.read_input(snakemake.input[0])"
   ]
  },
  {
   "cell_type": "code",
   "execution_count": null,
   "id": "880f3385",
   "metadata": {},
   "outputs": [],
   "source": [
    "for resolution in snakemake.config[\"preprocess\"][\"resolutions\"]:\n",
    "    print(f\".........Clustering for resolution: {resolution}.........\")\n",
    "    pg.leiden(\n",
    "        data=data,\n",
    "        rep=\"scanorama_regressed\",\n",
    "        resolution=resolution,\n",
    "        class_label=f\"leiden_label_{resolution}\",\n",
    "    )\n",
    "    pg.scatter(data, attrs=[f\"leiden_label_{resolution}\", \"Channel\"], basis=\"umap_pca\")\n",
    "    pg.dendrogram(data=data, groupby=f\"leiden_label_{resolution}\")\n",
    "    pg.compo_plot(\n",
    "        data=data,\n",
    "        groupby=f\"leiden_label_{resolution}\",\n",
    "        condition=\"Channel\",\n",
    "        n_jobs=snakemake.threads,\n",
    "    )\n",
    "    pg.de_analysis(data=data, cluster=f\"leiden_label_{resolution}\")\n",
    "    celltype_dict = pg.infer_cell_types(data=data, markers=\"human_brain\")\n",
    "    cluster_names = pg.infer_cluster_names(celltype_dict)\n",
    "    pg.annotate(\n",
    "        data=data,\n",
    "        name=f\"leiden_label_{resolution}_cell_types\",\n",
    "        based_on=f\"leiden_label_{resolution}\",\n",
    "        anno_dict=cluster_names,\n",
    "    )"
   ]
  },
  {
   "cell_type": "code",
   "execution_count": null,
   "id": "11cc5ed4",
   "metadata": {},
   "outputs": [],
   "source": [
    "pg.write_output(data, snakemake.output[\"h5ad\"])"
   ]
  }
 ],
 "metadata": {
  "language_info": {
   "name": "python"
  },
  "orig_nbformat": 4
 },
 "nbformat": 4,
 "nbformat_minor": 5
}
